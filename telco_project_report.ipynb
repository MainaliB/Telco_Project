{
 "cells": [
  {
   "cell_type": "markdown",
   "metadata": {},
   "source": [
    "## Getting all the necessary imports"
   ]
  },
  {
   "cell_type": "code",
   "execution_count": 6,
   "metadata": {},
   "outputs": [],
   "source": [
    "import numpy as np\n",
    "import telco_acquire\n",
    "import prepare\n",
    "import pandas as pd\n",
    "import seaborn as sns\n",
    "from pandas_profiling import ProfileReport\n",
    "import matplotlib.pyplot as plt\n",
    "from sklearn.model_selection import train_test_split\n",
    "from sklearn.linear_model import LogisticRegression\n",
    "import warnings\n",
    "warnings.filterwarnings(\"ignore\")\n",
    "from sklearn.tree import DecisionTreeClassifier\n",
    "from sklearn.ensemble import RandomForestClassifier\n",
    "from sklearn.neighbors import KNeighborsClassifier\n",
    "from sklearn.metrics import accuracy_score, precision_score, recall_score, classification_report, confusion_matrix"
   ]
  },
  {
   "cell_type": "markdown",
   "metadata": {},
   "source": [
    "# Telco Project Report\n",
    "\n",
    "### Goal:\n",
    "  - \tTo create a classification model that can accurately identify the customers as someone that will churn or not using the TELCO data. To attain this goal, I will be identifying the drivers of the churn and create a model that will incorporate these drivers(variables) to accurately predict the customer’s likelihood to churn. \n",
    "  \n",
    "  \n",
    "  \n",
    " ### Phases:\n",
    " - Planning\n",
    " - Data Acquistion\n",
    " - Data Preparation\n",
    " - Data Exploration\n",
    " - Modeling\n",
    " - Summary\n",
    " \n",
    "**Planning**\n",
    "- Outline step by step process to complete the project\n",
    "- A detailed plan can be found in the Readme.md file\n",
    "\n",
    "**Data Acquisition**\n",
    "- The code needed to acquire the data from the CodeUp database can be found in the **telco_acquire.py** file.\n",
    "- Access credentials are required to access the CodeUp database\n",
    "- Acquire also creates a local copy of the dataframe so that you wont have to access the database each time you run get_telco_data"
   ]
  },
  {
   "cell_type": "code",
   "execution_count": 7,
   "metadata": {},
   "outputs": [],
   "source": [
    "# acquiring data\n",
    "telco = telco_acquire.get_telco_data()"
   ]
  },
  {
   "cell_type": "markdown",
   "metadata": {},
   "source": [
    "**Data Preparation**\n",
    "- The code needed to prepare the data can be found in the **telco_prepare.py** file\n",
    "- Get some information about the data"
   ]
  },
  {
   "cell_type": "code",
   "execution_count": 8,
   "metadata": {},
   "outputs": [
    {
     "name": "stdout",
     "output_type": "stream",
     "text": [
      "<class 'pandas.core.frame.DataFrame'>\n",
      "Int64Index: 7043 entries, 0 to 7042\n",
      "Data columns (total 24 columns):\n",
      " #   Column                    Non-Null Count  Dtype  \n",
      "---  ------                    --------------  -----  \n",
      " 0   customer_id               7043 non-null   object \n",
      " 1   gender                    7043 non-null   object \n",
      " 2   senior_citizen            7043 non-null   int64  \n",
      " 3   partner                   7043 non-null   object \n",
      " 4   dependents                7043 non-null   object \n",
      " 5   tenure                    7043 non-null   int64  \n",
      " 6   phone_service             7043 non-null   object \n",
      " 7   multiple_lines            7043 non-null   object \n",
      " 8   internet_service_type_id  7043 non-null   int64  \n",
      " 9   online_security           7043 non-null   object \n",
      " 10  online_backup             7043 non-null   object \n",
      " 11  device_protection         7043 non-null   object \n",
      " 12  tech_support              7043 non-null   object \n",
      " 13  streaming_tv              7043 non-null   object \n",
      " 14  streaming_movies          7043 non-null   object \n",
      " 15  contract_type_id          7043 non-null   int64  \n",
      " 16  paperless_billing         7043 non-null   object \n",
      " 17  payment_type_id           7043 non-null   int64  \n",
      " 18  monthly_charges           7043 non-null   float64\n",
      " 19  total_charges             7043 non-null   object \n",
      " 20  churn                     7043 non-null   object \n",
      " 21  contract_type             7043 non-null   object \n",
      " 22  internet_service_type     7043 non-null   object \n",
      " 23  payment_type              7043 non-null   object \n",
      "dtypes: float64(1), int64(5), object(18)\n",
      "memory usage: 1.3+ MB\n"
     ]
    }
   ],
   "source": [
    "# getting info on the dataframe, you can see the data type, if any null presents, name of the columns, \n",
    "telco.info()\n",
    "\n",
    "## we can see that there are column like total_charges that should have been numeric but are not"
   ]
  },
  {
   "cell_type": "code",
   "execution_count": 9,
   "metadata": {},
   "outputs": [
    {
     "data": {
      "text/html": [
       "<div>\n",
       "<style scoped>\n",
       "    .dataframe tbody tr th:only-of-type {\n",
       "        vertical-align: middle;\n",
       "    }\n",
       "\n",
       "    .dataframe tbody tr th {\n",
       "        vertical-align: top;\n",
       "    }\n",
       "\n",
       "    .dataframe thead th {\n",
       "        text-align: right;\n",
       "    }\n",
       "</style>\n",
       "<table border=\"1\" class=\"dataframe\">\n",
       "  <thead>\n",
       "    <tr style=\"text-align: right;\">\n",
       "      <th></th>\n",
       "      <th>customer_id</th>\n",
       "      <th>gender</th>\n",
       "      <th>senior_citizen</th>\n",
       "      <th>partner</th>\n",
       "      <th>dependents</th>\n",
       "      <th>tenure</th>\n",
       "      <th>phone_service</th>\n",
       "      <th>multiple_lines</th>\n",
       "      <th>internet_service_type_id</th>\n",
       "      <th>online_security</th>\n",
       "      <th>...</th>\n",
       "      <th>streaming_movies</th>\n",
       "      <th>contract_type_id</th>\n",
       "      <th>paperless_billing</th>\n",
       "      <th>payment_type_id</th>\n",
       "      <th>monthly_charges</th>\n",
       "      <th>total_charges</th>\n",
       "      <th>churn</th>\n",
       "      <th>contract_type</th>\n",
       "      <th>internet_service_type</th>\n",
       "      <th>payment_type</th>\n",
       "    </tr>\n",
       "  </thead>\n",
       "  <tbody>\n",
       "    <tr>\n",
       "      <th>0</th>\n",
       "      <td>0003-MKNFE</td>\n",
       "      <td>Male</td>\n",
       "      <td>0</td>\n",
       "      <td>No</td>\n",
       "      <td>No</td>\n",
       "      <td>9</td>\n",
       "      <td>Yes</td>\n",
       "      <td>Yes</td>\n",
       "      <td>1</td>\n",
       "      <td>No</td>\n",
       "      <td>...</td>\n",
       "      <td>Yes</td>\n",
       "      <td>1</td>\n",
       "      <td>No</td>\n",
       "      <td>2</td>\n",
       "      <td>59.9</td>\n",
       "      <td>542.4</td>\n",
       "      <td>No</td>\n",
       "      <td>Month-to-month</td>\n",
       "      <td>DSL</td>\n",
       "      <td>Mailed check</td>\n",
       "    </tr>\n",
       "    <tr>\n",
       "      <th>1</th>\n",
       "      <td>0013-MHZWF</td>\n",
       "      <td>Female</td>\n",
       "      <td>0</td>\n",
       "      <td>No</td>\n",
       "      <td>Yes</td>\n",
       "      <td>9</td>\n",
       "      <td>Yes</td>\n",
       "      <td>No</td>\n",
       "      <td>1</td>\n",
       "      <td>No</td>\n",
       "      <td>...</td>\n",
       "      <td>Yes</td>\n",
       "      <td>1</td>\n",
       "      <td>Yes</td>\n",
       "      <td>4</td>\n",
       "      <td>69.4</td>\n",
       "      <td>571.45</td>\n",
       "      <td>No</td>\n",
       "      <td>Month-to-month</td>\n",
       "      <td>DSL</td>\n",
       "      <td>Credit card (automatic)</td>\n",
       "    </tr>\n",
       "    <tr>\n",
       "      <th>2</th>\n",
       "      <td>0015-UOCOJ</td>\n",
       "      <td>Female</td>\n",
       "      <td>1</td>\n",
       "      <td>No</td>\n",
       "      <td>No</td>\n",
       "      <td>7</td>\n",
       "      <td>Yes</td>\n",
       "      <td>No</td>\n",
       "      <td>1</td>\n",
       "      <td>Yes</td>\n",
       "      <td>...</td>\n",
       "      <td>No</td>\n",
       "      <td>1</td>\n",
       "      <td>Yes</td>\n",
       "      <td>1</td>\n",
       "      <td>48.2</td>\n",
       "      <td>340.35</td>\n",
       "      <td>No</td>\n",
       "      <td>Month-to-month</td>\n",
       "      <td>DSL</td>\n",
       "      <td>Electronic check</td>\n",
       "    </tr>\n",
       "    <tr>\n",
       "      <th>3</th>\n",
       "      <td>0023-HGHWL</td>\n",
       "      <td>Male</td>\n",
       "      <td>1</td>\n",
       "      <td>No</td>\n",
       "      <td>No</td>\n",
       "      <td>1</td>\n",
       "      <td>No</td>\n",
       "      <td>No phone service</td>\n",
       "      <td>1</td>\n",
       "      <td>No</td>\n",
       "      <td>...</td>\n",
       "      <td>No</td>\n",
       "      <td>1</td>\n",
       "      <td>Yes</td>\n",
       "      <td>1</td>\n",
       "      <td>25.1</td>\n",
       "      <td>25.1</td>\n",
       "      <td>Yes</td>\n",
       "      <td>Month-to-month</td>\n",
       "      <td>DSL</td>\n",
       "      <td>Electronic check</td>\n",
       "    </tr>\n",
       "    <tr>\n",
       "      <th>4</th>\n",
       "      <td>0032-PGELS</td>\n",
       "      <td>Female</td>\n",
       "      <td>0</td>\n",
       "      <td>Yes</td>\n",
       "      <td>Yes</td>\n",
       "      <td>1</td>\n",
       "      <td>No</td>\n",
       "      <td>No phone service</td>\n",
       "      <td>1</td>\n",
       "      <td>Yes</td>\n",
       "      <td>...</td>\n",
       "      <td>No</td>\n",
       "      <td>1</td>\n",
       "      <td>No</td>\n",
       "      <td>3</td>\n",
       "      <td>30.5</td>\n",
       "      <td>30.5</td>\n",
       "      <td>Yes</td>\n",
       "      <td>Month-to-month</td>\n",
       "      <td>DSL</td>\n",
       "      <td>Bank transfer (automatic)</td>\n",
       "    </tr>\n",
       "  </tbody>\n",
       "</table>\n",
       "<p>5 rows × 24 columns</p>\n",
       "</div>"
      ],
      "text/plain": [
       "  customer_id  gender  senior_citizen partner dependents  tenure  \\\n",
       "0  0003-MKNFE    Male               0      No         No       9   \n",
       "1  0013-MHZWF  Female               0      No        Yes       9   \n",
       "2  0015-UOCOJ  Female               1      No         No       7   \n",
       "3  0023-HGHWL    Male               1      No         No       1   \n",
       "4  0032-PGELS  Female               0     Yes        Yes       1   \n",
       "\n",
       "  phone_service    multiple_lines  internet_service_type_id online_security  \\\n",
       "0           Yes               Yes                         1              No   \n",
       "1           Yes                No                         1              No   \n",
       "2           Yes                No                         1             Yes   \n",
       "3            No  No phone service                         1              No   \n",
       "4            No  No phone service                         1             Yes   \n",
       "\n",
       "   ... streaming_movies contract_type_id paperless_billing payment_type_id  \\\n",
       "0  ...              Yes                1                No               2   \n",
       "1  ...              Yes                1               Yes               4   \n",
       "2  ...               No                1               Yes               1   \n",
       "3  ...               No                1               Yes               1   \n",
       "4  ...               No                1                No               3   \n",
       "\n",
       "  monthly_charges  total_charges churn   contract_type  internet_service_type  \\\n",
       "0            59.9          542.4    No  Month-to-month                    DSL   \n",
       "1            69.4         571.45    No  Month-to-month                    DSL   \n",
       "2            48.2         340.35    No  Month-to-month                    DSL   \n",
       "3            25.1           25.1   Yes  Month-to-month                    DSL   \n",
       "4            30.5           30.5   Yes  Month-to-month                    DSL   \n",
       "\n",
       "                payment_type  \n",
       "0               Mailed check  \n",
       "1    Credit card (automatic)  \n",
       "2           Electronic check  \n",
       "3           Electronic check  \n",
       "4  Bank transfer (automatic)  \n",
       "\n",
       "[5 rows x 24 columns]"
      ]
     },
     "execution_count": 9,
     "metadata": {},
     "output_type": "execute_result"
    }
   ],
   "source": [
    "# lets look at the data\n",
    "\n",
    "telco.head(5)"
   ]
  },
  {
   "cell_type": "markdown",
   "metadata": {},
   "source": [
    "- run a summary statistics"
   ]
  },
  {
   "cell_type": "code",
   "execution_count": 10,
   "metadata": {},
   "outputs": [
    {
     "data": {
      "text/html": [
       "<div>\n",
       "<style scoped>\n",
       "    .dataframe tbody tr th:only-of-type {\n",
       "        vertical-align: middle;\n",
       "    }\n",
       "\n",
       "    .dataframe tbody tr th {\n",
       "        vertical-align: top;\n",
       "    }\n",
       "\n",
       "    .dataframe thead th {\n",
       "        text-align: right;\n",
       "    }\n",
       "</style>\n",
       "<table border=\"1\" class=\"dataframe\">\n",
       "  <thead>\n",
       "    <tr style=\"text-align: right;\">\n",
       "      <th></th>\n",
       "      <th>count</th>\n",
       "      <th>mean</th>\n",
       "      <th>std</th>\n",
       "      <th>min</th>\n",
       "      <th>25%</th>\n",
       "      <th>50%</th>\n",
       "      <th>75%</th>\n",
       "      <th>max</th>\n",
       "    </tr>\n",
       "  </thead>\n",
       "  <tbody>\n",
       "    <tr>\n",
       "      <th>senior_citizen</th>\n",
       "      <td>7043.0</td>\n",
       "      <td>0.162147</td>\n",
       "      <td>0.368612</td>\n",
       "      <td>0.00</td>\n",
       "      <td>0.0</td>\n",
       "      <td>0.00</td>\n",
       "      <td>0.00</td>\n",
       "      <td>1.00</td>\n",
       "    </tr>\n",
       "    <tr>\n",
       "      <th>tenure</th>\n",
       "      <td>7043.0</td>\n",
       "      <td>32.371149</td>\n",
       "      <td>24.559481</td>\n",
       "      <td>0.00</td>\n",
       "      <td>9.0</td>\n",
       "      <td>29.00</td>\n",
       "      <td>55.00</td>\n",
       "      <td>72.00</td>\n",
       "    </tr>\n",
       "    <tr>\n",
       "      <th>internet_service_type_id</th>\n",
       "      <td>7043.0</td>\n",
       "      <td>1.872923</td>\n",
       "      <td>0.737796</td>\n",
       "      <td>1.00</td>\n",
       "      <td>1.0</td>\n",
       "      <td>2.00</td>\n",
       "      <td>2.00</td>\n",
       "      <td>3.00</td>\n",
       "    </tr>\n",
       "    <tr>\n",
       "      <th>contract_type_id</th>\n",
       "      <td>7043.0</td>\n",
       "      <td>1.690473</td>\n",
       "      <td>0.833755</td>\n",
       "      <td>1.00</td>\n",
       "      <td>1.0</td>\n",
       "      <td>1.00</td>\n",
       "      <td>2.00</td>\n",
       "      <td>3.00</td>\n",
       "    </tr>\n",
       "    <tr>\n",
       "      <th>payment_type_id</th>\n",
       "      <td>7043.0</td>\n",
       "      <td>2.315633</td>\n",
       "      <td>1.148907</td>\n",
       "      <td>1.00</td>\n",
       "      <td>1.0</td>\n",
       "      <td>2.00</td>\n",
       "      <td>3.00</td>\n",
       "      <td>4.00</td>\n",
       "    </tr>\n",
       "    <tr>\n",
       "      <th>monthly_charges</th>\n",
       "      <td>7043.0</td>\n",
       "      <td>64.761692</td>\n",
       "      <td>30.090047</td>\n",
       "      <td>18.25</td>\n",
       "      <td>35.5</td>\n",
       "      <td>70.35</td>\n",
       "      <td>89.85</td>\n",
       "      <td>118.75</td>\n",
       "    </tr>\n",
       "  </tbody>\n",
       "</table>\n",
       "</div>"
      ],
      "text/plain": [
       "                           count       mean        std    min   25%    50%  \\\n",
       "senior_citizen            7043.0   0.162147   0.368612   0.00   0.0   0.00   \n",
       "tenure                    7043.0  32.371149  24.559481   0.00   9.0  29.00   \n",
       "internet_service_type_id  7043.0   1.872923   0.737796   1.00   1.0   2.00   \n",
       "contract_type_id          7043.0   1.690473   0.833755   1.00   1.0   1.00   \n",
       "payment_type_id           7043.0   2.315633   1.148907   1.00   1.0   2.00   \n",
       "monthly_charges           7043.0  64.761692  30.090047  18.25  35.5  70.35   \n",
       "\n",
       "                            75%     max  \n",
       "senior_citizen             0.00    1.00  \n",
       "tenure                    55.00   72.00  \n",
       "internet_service_type_id   2.00    3.00  \n",
       "contract_type_id           2.00    3.00  \n",
       "payment_type_id            3.00    4.00  \n",
       "monthly_charges           89.85  118.75  "
      ]
     },
     "execution_count": 10,
     "metadata": {},
     "output_type": "execute_result"
    }
   ],
   "source": [
    "telco.describe().T\n",
    "\n",
    "# there is nothing unusual about the data so far except the min value of 0 for tenure, we should check out the \n",
    "# total charges for those observations with 0 tenure but first lets change the data type of total charges"
   ]
  },
  {
   "cell_type": "markdown",
   "metadata": {},
   "source": [
    "- change the data type for total_charges column"
   ]
  },
  {
   "cell_type": "code",
   "execution_count": 11,
   "metadata": {},
   "outputs": [
    {
     "data": {
      "text/html": [
       "<div>\n",
       "<style scoped>\n",
       "    .dataframe tbody tr th:only-of-type {\n",
       "        vertical-align: middle;\n",
       "    }\n",
       "\n",
       "    .dataframe tbody tr th {\n",
       "        vertical-align: top;\n",
       "    }\n",
       "\n",
       "    .dataframe thead th {\n",
       "        text-align: right;\n",
       "    }\n",
       "</style>\n",
       "<table border=\"1\" class=\"dataframe\">\n",
       "  <thead>\n",
       "    <tr style=\"text-align: right;\">\n",
       "      <th></th>\n",
       "      <th>6143</th>\n",
       "      <th>6569</th>\n",
       "      <th>6895</th>\n",
       "      <th>2132</th>\n",
       "      <th>6615</th>\n",
       "      <th>2048</th>\n",
       "      <th>6686</th>\n",
       "      <th>1878</th>\n",
       "      <th>6605</th>\n",
       "      <th>1949</th>\n",
       "      <th>2029</th>\n",
       "      <th>5784</th>\n",
       "      <th>3517</th>\n",
       "      <th>5549</th>\n",
       "      <th>5793</th>\n",
       "    </tr>\n",
       "  </thead>\n",
       "  <tbody>\n",
       "    <tr>\n",
       "      <th>customer_id</th>\n",
       "      <td>2923-ARZLG</td>\n",
       "      <td>2520-SGTTA</td>\n",
       "      <td>7644-OMVMY</td>\n",
       "      <td>5709-LVOEQ</td>\n",
       "      <td>3213-VVOLG</td>\n",
       "      <td>4472-LVYGI</td>\n",
       "      <td>4367-NUYAO</td>\n",
       "      <td>1371-DWPAZ</td>\n",
       "      <td>3115-CZMZD</td>\n",
       "      <td>2775-SEFEE</td>\n",
       "      <td>4075-WKNIU</td>\n",
       "      <td>4800-VHZKI</td>\n",
       "      <td>5054-IEXZT</td>\n",
       "      <td>0673-IGUQO</td>\n",
       "      <td>4897-QSUYC</td>\n",
       "    </tr>\n",
       "    <tr>\n",
       "      <th>gender</th>\n",
       "      <td>Male</td>\n",
       "      <td>Female</td>\n",
       "      <td>Male</td>\n",
       "      <td>Female</td>\n",
       "      <td>Male</td>\n",
       "      <td>Female</td>\n",
       "      <td>Male</td>\n",
       "      <td>Female</td>\n",
       "      <td>Male</td>\n",
       "      <td>Male</td>\n",
       "      <td>Female</td>\n",
       "      <td>Female</td>\n",
       "      <td>Male</td>\n",
       "      <td>Male</td>\n",
       "      <td>Female</td>\n",
       "    </tr>\n",
       "    <tr>\n",
       "      <th>senior_citizen</th>\n",
       "      <td>0</td>\n",
       "      <td>0</td>\n",
       "      <td>0</td>\n",
       "      <td>0</td>\n",
       "      <td>0</td>\n",
       "      <td>0</td>\n",
       "      <td>0</td>\n",
       "      <td>0</td>\n",
       "      <td>0</td>\n",
       "      <td>0</td>\n",
       "      <td>0</td>\n",
       "      <td>0</td>\n",
       "      <td>0</td>\n",
       "      <td>0</td>\n",
       "      <td>0</td>\n",
       "    </tr>\n",
       "    <tr>\n",
       "      <th>partner</th>\n",
       "      <td>Yes</td>\n",
       "      <td>Yes</td>\n",
       "      <td>Yes</td>\n",
       "      <td>Yes</td>\n",
       "      <td>Yes</td>\n",
       "      <td>Yes</td>\n",
       "      <td>Yes</td>\n",
       "      <td>Yes</td>\n",
       "      <td>No</td>\n",
       "      <td>No</td>\n",
       "      <td>Yes</td>\n",
       "      <td>No</td>\n",
       "      <td>No</td>\n",
       "      <td>No</td>\n",
       "      <td>No</td>\n",
       "    </tr>\n",
       "    <tr>\n",
       "      <th>dependents</th>\n",
       "      <td>Yes</td>\n",
       "      <td>Yes</td>\n",
       "      <td>Yes</td>\n",
       "      <td>Yes</td>\n",
       "      <td>Yes</td>\n",
       "      <td>Yes</td>\n",
       "      <td>Yes</td>\n",
       "      <td>Yes</td>\n",
       "      <td>Yes</td>\n",
       "      <td>Yes</td>\n",
       "      <td>Yes</td>\n",
       "      <td>No</td>\n",
       "      <td>Yes</td>\n",
       "      <td>No</td>\n",
       "      <td>No</td>\n",
       "    </tr>\n",
       "    <tr>\n",
       "      <th>tenure</th>\n",
       "      <td>0</td>\n",
       "      <td>0</td>\n",
       "      <td>0</td>\n",
       "      <td>0</td>\n",
       "      <td>0</td>\n",
       "      <td>0</td>\n",
       "      <td>0</td>\n",
       "      <td>0</td>\n",
       "      <td>0</td>\n",
       "      <td>0</td>\n",
       "      <td>0</td>\n",
       "      <td>1</td>\n",
       "      <td>1</td>\n",
       "      <td>1</td>\n",
       "      <td>1</td>\n",
       "    </tr>\n",
       "    <tr>\n",
       "      <th>phone_service</th>\n",
       "      <td>Yes</td>\n",
       "      <td>Yes</td>\n",
       "      <td>Yes</td>\n",
       "      <td>Yes</td>\n",
       "      <td>Yes</td>\n",
       "      <td>No</td>\n",
       "      <td>Yes</td>\n",
       "      <td>No</td>\n",
       "      <td>Yes</td>\n",
       "      <td>Yes</td>\n",
       "      <td>Yes</td>\n",
       "      <td>Yes</td>\n",
       "      <td>Yes</td>\n",
       "      <td>Yes</td>\n",
       "      <td>Yes</td>\n",
       "    </tr>\n",
       "    <tr>\n",
       "      <th>multiple_lines</th>\n",
       "      <td>No</td>\n",
       "      <td>No</td>\n",
       "      <td>No</td>\n",
       "      <td>No</td>\n",
       "      <td>Yes</td>\n",
       "      <td>No phone service</td>\n",
       "      <td>Yes</td>\n",
       "      <td>No phone service</td>\n",
       "      <td>No</td>\n",
       "      <td>Yes</td>\n",
       "      <td>Yes</td>\n",
       "      <td>No</td>\n",
       "      <td>No</td>\n",
       "      <td>No</td>\n",
       "      <td>No</td>\n",
       "    </tr>\n",
       "    <tr>\n",
       "      <th>internet_service_type_id</th>\n",
       "      <td>3</td>\n",
       "      <td>3</td>\n",
       "      <td>3</td>\n",
       "      <td>1</td>\n",
       "      <td>3</td>\n",
       "      <td>1</td>\n",
       "      <td>3</td>\n",
       "      <td>1</td>\n",
       "      <td>3</td>\n",
       "      <td>1</td>\n",
       "      <td>1</td>\n",
       "      <td>3</td>\n",
       "      <td>2</td>\n",
       "      <td>3</td>\n",
       "      <td>3</td>\n",
       "    </tr>\n",
       "    <tr>\n",
       "      <th>online_security</th>\n",
       "      <td>No internet service</td>\n",
       "      <td>No internet service</td>\n",
       "      <td>No internet service</td>\n",
       "      <td>Yes</td>\n",
       "      <td>No internet service</td>\n",
       "      <td>Yes</td>\n",
       "      <td>No internet service</td>\n",
       "      <td>Yes</td>\n",
       "      <td>No internet service</td>\n",
       "      <td>Yes</td>\n",
       "      <td>No</td>\n",
       "      <td>No internet service</td>\n",
       "      <td>No</td>\n",
       "      <td>No internet service</td>\n",
       "      <td>No internet service</td>\n",
       "    </tr>\n",
       "    <tr>\n",
       "      <th>online_backup</th>\n",
       "      <td>No internet service</td>\n",
       "      <td>No internet service</td>\n",
       "      <td>No internet service</td>\n",
       "      <td>Yes</td>\n",
       "      <td>No internet service</td>\n",
       "      <td>No</td>\n",
       "      <td>No internet service</td>\n",
       "      <td>Yes</td>\n",
       "      <td>No internet service</td>\n",
       "      <td>Yes</td>\n",
       "      <td>Yes</td>\n",
       "      <td>No internet service</td>\n",
       "      <td>Yes</td>\n",
       "      <td>No internet service</td>\n",
       "      <td>No internet service</td>\n",
       "    </tr>\n",
       "    <tr>\n",
       "      <th>device_protection</th>\n",
       "      <td>No internet service</td>\n",
       "      <td>No internet service</td>\n",
       "      <td>No internet service</td>\n",
       "      <td>Yes</td>\n",
       "      <td>No internet service</td>\n",
       "      <td>Yes</td>\n",
       "      <td>No internet service</td>\n",
       "      <td>Yes</td>\n",
       "      <td>No internet service</td>\n",
       "      <td>No</td>\n",
       "      <td>Yes</td>\n",
       "      <td>No internet service</td>\n",
       "      <td>No</td>\n",
       "      <td>No internet service</td>\n",
       "      <td>No internet service</td>\n",
       "    </tr>\n",
       "    <tr>\n",
       "      <th>tech_support</th>\n",
       "      <td>No internet service</td>\n",
       "      <td>No internet service</td>\n",
       "      <td>No internet service</td>\n",
       "      <td>No</td>\n",
       "      <td>No internet service</td>\n",
       "      <td>Yes</td>\n",
       "      <td>No internet service</td>\n",
       "      <td>Yes</td>\n",
       "      <td>No internet service</td>\n",
       "      <td>Yes</td>\n",
       "      <td>Yes</td>\n",
       "      <td>No internet service</td>\n",
       "      <td>No</td>\n",
       "      <td>No internet service</td>\n",
       "      <td>No internet service</td>\n",
       "    </tr>\n",
       "    <tr>\n",
       "      <th>streaming_tv</th>\n",
       "      <td>No internet service</td>\n",
       "      <td>No internet service</td>\n",
       "      <td>No internet service</td>\n",
       "      <td>Yes</td>\n",
       "      <td>No internet service</td>\n",
       "      <td>Yes</td>\n",
       "      <td>No internet service</td>\n",
       "      <td>Yes</td>\n",
       "      <td>No internet service</td>\n",
       "      <td>No</td>\n",
       "      <td>Yes</td>\n",
       "      <td>No internet service</td>\n",
       "      <td>No</td>\n",
       "      <td>No internet service</td>\n",
       "      <td>No internet service</td>\n",
       "    </tr>\n",
       "    <tr>\n",
       "      <th>streaming_movies</th>\n",
       "      <td>No internet service</td>\n",
       "      <td>No internet service</td>\n",
       "      <td>No internet service</td>\n",
       "      <td>Yes</td>\n",
       "      <td>No internet service</td>\n",
       "      <td>No</td>\n",
       "      <td>No internet service</td>\n",
       "      <td>No</td>\n",
       "      <td>No internet service</td>\n",
       "      <td>No</td>\n",
       "      <td>No</td>\n",
       "      <td>No internet service</td>\n",
       "      <td>No</td>\n",
       "      <td>No internet service</td>\n",
       "      <td>No internet service</td>\n",
       "    </tr>\n",
       "    <tr>\n",
       "      <th>contract_type_id</th>\n",
       "      <td>2</td>\n",
       "      <td>3</td>\n",
       "      <td>3</td>\n",
       "      <td>3</td>\n",
       "      <td>3</td>\n",
       "      <td>3</td>\n",
       "      <td>3</td>\n",
       "      <td>3</td>\n",
       "      <td>3</td>\n",
       "      <td>3</td>\n",
       "      <td>3</td>\n",
       "      <td>1</td>\n",
       "      <td>1</td>\n",
       "      <td>1</td>\n",
       "      <td>1</td>\n",
       "    </tr>\n",
       "    <tr>\n",
       "      <th>paperless_billing</th>\n",
       "      <td>Yes</td>\n",
       "      <td>No</td>\n",
       "      <td>No</td>\n",
       "      <td>No</td>\n",
       "      <td>No</td>\n",
       "      <td>Yes</td>\n",
       "      <td>No</td>\n",
       "      <td>No</td>\n",
       "      <td>No</td>\n",
       "      <td>Yes</td>\n",
       "      <td>No</td>\n",
       "      <td>Yes</td>\n",
       "      <td>Yes</td>\n",
       "      <td>No</td>\n",
       "      <td>Yes</td>\n",
       "    </tr>\n",
       "    <tr>\n",
       "      <th>payment_type_id</th>\n",
       "      <td>2</td>\n",
       "      <td>2</td>\n",
       "      <td>2</td>\n",
       "      <td>2</td>\n",
       "      <td>2</td>\n",
       "      <td>3</td>\n",
       "      <td>2</td>\n",
       "      <td>4</td>\n",
       "      <td>2</td>\n",
       "      <td>3</td>\n",
       "      <td>2</td>\n",
       "      <td>2</td>\n",
       "      <td>1</td>\n",
       "      <td>2</td>\n",
       "      <td>2</td>\n",
       "    </tr>\n",
       "    <tr>\n",
       "      <th>monthly_charges</th>\n",
       "      <td>19.7</td>\n",
       "      <td>20</td>\n",
       "      <td>19.85</td>\n",
       "      <td>80.85</td>\n",
       "      <td>25.35</td>\n",
       "      <td>52.55</td>\n",
       "      <td>25.75</td>\n",
       "      <td>56.05</td>\n",
       "      <td>20.25</td>\n",
       "      <td>61.9</td>\n",
       "      <td>73.35</td>\n",
       "      <td>19.9</td>\n",
       "      <td>75.35</td>\n",
       "      <td>20.45</td>\n",
       "      <td>20.15</td>\n",
       "    </tr>\n",
       "    <tr>\n",
       "      <th>total_charges</th>\n",
       "      <td>NaN</td>\n",
       "      <td>NaN</td>\n",
       "      <td>NaN</td>\n",
       "      <td>NaN</td>\n",
       "      <td>NaN</td>\n",
       "      <td>NaN</td>\n",
       "      <td>NaN</td>\n",
       "      <td>NaN</td>\n",
       "      <td>NaN</td>\n",
       "      <td>NaN</td>\n",
       "      <td>NaN</td>\n",
       "      <td>19.9</td>\n",
       "      <td>75.35</td>\n",
       "      <td>20.45</td>\n",
       "      <td>20.15</td>\n",
       "    </tr>\n",
       "    <tr>\n",
       "      <th>churn</th>\n",
       "      <td>No</td>\n",
       "      <td>No</td>\n",
       "      <td>No</td>\n",
       "      <td>No</td>\n",
       "      <td>No</td>\n",
       "      <td>No</td>\n",
       "      <td>No</td>\n",
       "      <td>No</td>\n",
       "      <td>No</td>\n",
       "      <td>No</td>\n",
       "      <td>No</td>\n",
       "      <td>Yes</td>\n",
       "      <td>Yes</td>\n",
       "      <td>No</td>\n",
       "      <td>Yes</td>\n",
       "    </tr>\n",
       "    <tr>\n",
       "      <th>contract_type</th>\n",
       "      <td>One year</td>\n",
       "      <td>Two year</td>\n",
       "      <td>Two year</td>\n",
       "      <td>Two year</td>\n",
       "      <td>Two year</td>\n",
       "      <td>Two year</td>\n",
       "      <td>Two year</td>\n",
       "      <td>Two year</td>\n",
       "      <td>Two year</td>\n",
       "      <td>Two year</td>\n",
       "      <td>Two year</td>\n",
       "      <td>Month-to-month</td>\n",
       "      <td>Month-to-month</td>\n",
       "      <td>Month-to-month</td>\n",
       "      <td>Month-to-month</td>\n",
       "    </tr>\n",
       "    <tr>\n",
       "      <th>internet_service_type</th>\n",
       "      <td>None</td>\n",
       "      <td>None</td>\n",
       "      <td>None</td>\n",
       "      <td>DSL</td>\n",
       "      <td>None</td>\n",
       "      <td>DSL</td>\n",
       "      <td>None</td>\n",
       "      <td>DSL</td>\n",
       "      <td>None</td>\n",
       "      <td>DSL</td>\n",
       "      <td>DSL</td>\n",
       "      <td>None</td>\n",
       "      <td>Fiber optic</td>\n",
       "      <td>None</td>\n",
       "      <td>None</td>\n",
       "    </tr>\n",
       "    <tr>\n",
       "      <th>payment_type</th>\n",
       "      <td>Mailed check</td>\n",
       "      <td>Mailed check</td>\n",
       "      <td>Mailed check</td>\n",
       "      <td>Mailed check</td>\n",
       "      <td>Mailed check</td>\n",
       "      <td>Bank transfer (automatic)</td>\n",
       "      <td>Mailed check</td>\n",
       "      <td>Credit card (automatic)</td>\n",
       "      <td>Mailed check</td>\n",
       "      <td>Bank transfer (automatic)</td>\n",
       "      <td>Mailed check</td>\n",
       "      <td>Mailed check</td>\n",
       "      <td>Electronic check</td>\n",
       "      <td>Mailed check</td>\n",
       "      <td>Mailed check</td>\n",
       "    </tr>\n",
       "  </tbody>\n",
       "</table>\n",
       "</div>"
      ],
      "text/plain": [
       "                                         6143                 6569  \\\n",
       "customer_id                        2923-ARZLG           2520-SGTTA   \n",
       "gender                                   Male               Female   \n",
       "senior_citizen                              0                    0   \n",
       "partner                                   Yes                  Yes   \n",
       "dependents                                Yes                  Yes   \n",
       "tenure                                      0                    0   \n",
       "phone_service                             Yes                  Yes   \n",
       "multiple_lines                             No                   No   \n",
       "internet_service_type_id                    3                    3   \n",
       "online_security           No internet service  No internet service   \n",
       "online_backup             No internet service  No internet service   \n",
       "device_protection         No internet service  No internet service   \n",
       "tech_support              No internet service  No internet service   \n",
       "streaming_tv              No internet service  No internet service   \n",
       "streaming_movies          No internet service  No internet service   \n",
       "contract_type_id                            2                    3   \n",
       "paperless_billing                         Yes                   No   \n",
       "payment_type_id                             2                    2   \n",
       "monthly_charges                          19.7                   20   \n",
       "total_charges                             NaN                  NaN   \n",
       "churn                                      No                   No   \n",
       "contract_type                        One year             Two year   \n",
       "internet_service_type                    None                 None   \n",
       "payment_type                     Mailed check         Mailed check   \n",
       "\n",
       "                                         6895          2132  \\\n",
       "customer_id                        7644-OMVMY    5709-LVOEQ   \n",
       "gender                                   Male        Female   \n",
       "senior_citizen                              0             0   \n",
       "partner                                   Yes           Yes   \n",
       "dependents                                Yes           Yes   \n",
       "tenure                                      0             0   \n",
       "phone_service                             Yes           Yes   \n",
       "multiple_lines                             No            No   \n",
       "internet_service_type_id                    3             1   \n",
       "online_security           No internet service           Yes   \n",
       "online_backup             No internet service           Yes   \n",
       "device_protection         No internet service           Yes   \n",
       "tech_support              No internet service            No   \n",
       "streaming_tv              No internet service           Yes   \n",
       "streaming_movies          No internet service           Yes   \n",
       "contract_type_id                            3             3   \n",
       "paperless_billing                          No            No   \n",
       "payment_type_id                             2             2   \n",
       "monthly_charges                         19.85         80.85   \n",
       "total_charges                             NaN           NaN   \n",
       "churn                                      No            No   \n",
       "contract_type                        Two year      Two year   \n",
       "internet_service_type                    None           DSL   \n",
       "payment_type                     Mailed check  Mailed check   \n",
       "\n",
       "                                         6615                       2048  \\\n",
       "customer_id                        3213-VVOLG                 4472-LVYGI   \n",
       "gender                                   Male                     Female   \n",
       "senior_citizen                              0                          0   \n",
       "partner                                   Yes                        Yes   \n",
       "dependents                                Yes                        Yes   \n",
       "tenure                                      0                          0   \n",
       "phone_service                             Yes                         No   \n",
       "multiple_lines                            Yes           No phone service   \n",
       "internet_service_type_id                    3                          1   \n",
       "online_security           No internet service                        Yes   \n",
       "online_backup             No internet service                         No   \n",
       "device_protection         No internet service                        Yes   \n",
       "tech_support              No internet service                        Yes   \n",
       "streaming_tv              No internet service                        Yes   \n",
       "streaming_movies          No internet service                         No   \n",
       "contract_type_id                            3                          3   \n",
       "paperless_billing                          No                        Yes   \n",
       "payment_type_id                             2                          3   \n",
       "monthly_charges                         25.35                      52.55   \n",
       "total_charges                             NaN                        NaN   \n",
       "churn                                      No                         No   \n",
       "contract_type                        Two year                   Two year   \n",
       "internet_service_type                    None                        DSL   \n",
       "payment_type                     Mailed check  Bank transfer (automatic)   \n",
       "\n",
       "                                         6686                     1878  \\\n",
       "customer_id                        4367-NUYAO               1371-DWPAZ   \n",
       "gender                                   Male                   Female   \n",
       "senior_citizen                              0                        0   \n",
       "partner                                   Yes                      Yes   \n",
       "dependents                                Yes                      Yes   \n",
       "tenure                                      0                        0   \n",
       "phone_service                             Yes                       No   \n",
       "multiple_lines                            Yes         No phone service   \n",
       "internet_service_type_id                    3                        1   \n",
       "online_security           No internet service                      Yes   \n",
       "online_backup             No internet service                      Yes   \n",
       "device_protection         No internet service                      Yes   \n",
       "tech_support              No internet service                      Yes   \n",
       "streaming_tv              No internet service                      Yes   \n",
       "streaming_movies          No internet service                       No   \n",
       "contract_type_id                            3                        3   \n",
       "paperless_billing                          No                       No   \n",
       "payment_type_id                             2                        4   \n",
       "monthly_charges                         25.75                    56.05   \n",
       "total_charges                             NaN                      NaN   \n",
       "churn                                      No                       No   \n",
       "contract_type                        Two year                 Two year   \n",
       "internet_service_type                    None                      DSL   \n",
       "payment_type                     Mailed check  Credit card (automatic)   \n",
       "\n",
       "                                         6605                       1949  \\\n",
       "customer_id                        3115-CZMZD                 2775-SEFEE   \n",
       "gender                                   Male                       Male   \n",
       "senior_citizen                              0                          0   \n",
       "partner                                    No                         No   \n",
       "dependents                                Yes                        Yes   \n",
       "tenure                                      0                          0   \n",
       "phone_service                             Yes                        Yes   \n",
       "multiple_lines                             No                        Yes   \n",
       "internet_service_type_id                    3                          1   \n",
       "online_security           No internet service                        Yes   \n",
       "online_backup             No internet service                        Yes   \n",
       "device_protection         No internet service                         No   \n",
       "tech_support              No internet service                        Yes   \n",
       "streaming_tv              No internet service                         No   \n",
       "streaming_movies          No internet service                         No   \n",
       "contract_type_id                            3                          3   \n",
       "paperless_billing                          No                        Yes   \n",
       "payment_type_id                             2                          3   \n",
       "monthly_charges                         20.25                       61.9   \n",
       "total_charges                             NaN                        NaN   \n",
       "churn                                      No                         No   \n",
       "contract_type                        Two year                   Two year   \n",
       "internet_service_type                    None                        DSL   \n",
       "payment_type                     Mailed check  Bank transfer (automatic)   \n",
       "\n",
       "                                  2029                 5784              3517  \\\n",
       "customer_id                 4075-WKNIU           4800-VHZKI        5054-IEXZT   \n",
       "gender                          Female               Female              Male   \n",
       "senior_citizen                       0                    0                 0   \n",
       "partner                            Yes                   No                No   \n",
       "dependents                         Yes                   No               Yes   \n",
       "tenure                               0                    1                 1   \n",
       "phone_service                      Yes                  Yes               Yes   \n",
       "multiple_lines                     Yes                   No                No   \n",
       "internet_service_type_id             1                    3                 2   \n",
       "online_security                     No  No internet service                No   \n",
       "online_backup                      Yes  No internet service               Yes   \n",
       "device_protection                  Yes  No internet service                No   \n",
       "tech_support                       Yes  No internet service                No   \n",
       "streaming_tv                       Yes  No internet service                No   \n",
       "streaming_movies                    No  No internet service                No   \n",
       "contract_type_id                     3                    1                 1   \n",
       "paperless_billing                   No                  Yes               Yes   \n",
       "payment_type_id                      2                    2                 1   \n",
       "monthly_charges                  73.35                 19.9             75.35   \n",
       "total_charges                      NaN                 19.9             75.35   \n",
       "churn                               No                  Yes               Yes   \n",
       "contract_type                 Two year       Month-to-month    Month-to-month   \n",
       "internet_service_type              DSL                 None       Fiber optic   \n",
       "payment_type              Mailed check         Mailed check  Electronic check   \n",
       "\n",
       "                                         5549                 5793  \n",
       "customer_id                        0673-IGUQO           4897-QSUYC  \n",
       "gender                                   Male               Female  \n",
       "senior_citizen                              0                    0  \n",
       "partner                                    No                   No  \n",
       "dependents                                 No                   No  \n",
       "tenure                                      1                    1  \n",
       "phone_service                             Yes                  Yes  \n",
       "multiple_lines                             No                   No  \n",
       "internet_service_type_id                    3                    3  \n",
       "online_security           No internet service  No internet service  \n",
       "online_backup             No internet service  No internet service  \n",
       "device_protection         No internet service  No internet service  \n",
       "tech_support              No internet service  No internet service  \n",
       "streaming_tv              No internet service  No internet service  \n",
       "streaming_movies          No internet service  No internet service  \n",
       "contract_type_id                            1                    1  \n",
       "paperless_billing                          No                  Yes  \n",
       "payment_type_id                             2                    2  \n",
       "monthly_charges                         20.45                20.15  \n",
       "total_charges                           20.45                20.15  \n",
       "churn                                      No                  Yes  \n",
       "contract_type                  Month-to-month       Month-to-month  \n",
       "internet_service_type                    None                 None  \n",
       "payment_type                     Mailed check         Mailed check  "
      ]
     },
     "execution_count": 11,
     "metadata": {},
     "output_type": "execute_result"
    }
   ],
   "source": [
    "telco.total_charges = pd.to_numeric(telco.total_charges, errors = 'coerce')\n",
    "telco.sort_values(by = 'tenure', ascending = True).head(15).T\n",
    "\n",
    "# the ones with 0 months for tenure now have NaNs for total charges. lets get a count of them next"
   ]
  },
  {
   "cell_type": "code",
   "execution_count": 12,
   "metadata": {},
   "outputs": [
    {
     "name": "stdout",
     "output_type": "stream",
     "text": [
      "customer_id                  0\n",
      "gender                       0\n",
      "senior_citizen               0\n",
      "partner                      0\n",
      "dependents                   0\n",
      "tenure                       0\n",
      "phone_service                0\n",
      "multiple_lines               0\n",
      "internet_service_type_id     0\n",
      "online_security              0\n",
      "online_backup                0\n",
      "device_protection            0\n",
      "tech_support                 0\n",
      "streaming_tv                 0\n",
      "streaming_movies             0\n",
      "contract_type_id             0\n",
      "paperless_billing            0\n",
      "payment_type_id              0\n",
      "monthly_charges              0\n",
      "total_charges               11\n",
      "churn                        0\n",
      "contract_type                0\n",
      "internet_service_type        0\n",
      "payment_type                 0\n",
      "dtype: int64\n",
      "customer_id                 0.000000\n",
      "gender                      0.000000\n",
      "senior_citizen              0.000000\n",
      "partner                     0.000000\n",
      "dependents                  0.000000\n",
      "tenure                      0.000000\n",
      "phone_service               0.000000\n",
      "multiple_lines              0.000000\n",
      "internet_service_type_id    0.000000\n",
      "online_security             0.000000\n",
      "online_backup               0.000000\n",
      "device_protection           0.000000\n",
      "tech_support                0.000000\n",
      "streaming_tv                0.000000\n",
      "streaming_movies            0.000000\n",
      "contract_type_id            0.000000\n",
      "paperless_billing           0.000000\n",
      "payment_type_id             0.000000\n",
      "monthly_charges             0.000000\n",
      "total_charges               0.156183\n",
      "churn                       0.000000\n",
      "contract_type               0.000000\n",
      "internet_service_type       0.000000\n",
      "payment_type                0.000000\n",
      "dtype: float64\n"
     ]
    }
   ],
   "source": [
    "print(telco.isnull().sum())\n",
    "\n",
    "# we can see that there are 11 missing values for total_charges and these are the same values that have 0 for tenure\n",
    "\n",
    "# lets get missing value %\n",
    "\n",
    "print(telco.isnull().sum()/len(telco) * 100)\n",
    "\n",
    "# its roughly 0.15% of the data, so we will drop these observations"
   ]
  },
  {
   "cell_type": "code",
   "execution_count": 13,
   "metadata": {},
   "outputs": [
    {
     "data": {
      "text/html": [
       "<div>\n",
       "<style scoped>\n",
       "    .dataframe tbody tr th:only-of-type {\n",
       "        vertical-align: middle;\n",
       "    }\n",
       "\n",
       "    .dataframe tbody tr th {\n",
       "        vertical-align: top;\n",
       "    }\n",
       "\n",
       "    .dataframe thead th {\n",
       "        text-align: right;\n",
       "    }\n",
       "</style>\n",
       "<table border=\"1\" class=\"dataframe\">\n",
       "  <thead>\n",
       "    <tr style=\"text-align: right;\">\n",
       "      <th></th>\n",
       "      <th>customer_id</th>\n",
       "      <th>gender</th>\n",
       "      <th>senior_citizen</th>\n",
       "      <th>partner</th>\n",
       "      <th>dependents</th>\n",
       "      <th>tenure</th>\n",
       "      <th>phone_service</th>\n",
       "      <th>multiple_lines</th>\n",
       "      <th>internet_service_type_id</th>\n",
       "      <th>online_security</th>\n",
       "      <th>...</th>\n",
       "      <th>streaming_movies</th>\n",
       "      <th>contract_type_id</th>\n",
       "      <th>paperless_billing</th>\n",
       "      <th>payment_type_id</th>\n",
       "      <th>monthly_charges</th>\n",
       "      <th>total_charges</th>\n",
       "      <th>churn</th>\n",
       "      <th>contract_type</th>\n",
       "      <th>internet_service_type</th>\n",
       "      <th>payment_type</th>\n",
       "    </tr>\n",
       "  </thead>\n",
       "  <tbody>\n",
       "    <tr>\n",
       "      <th>0</th>\n",
       "      <td>0003-MKNFE</td>\n",
       "      <td>Male</td>\n",
       "      <td>0</td>\n",
       "      <td>No</td>\n",
       "      <td>No</td>\n",
       "      <td>9</td>\n",
       "      <td>Yes</td>\n",
       "      <td>Yes</td>\n",
       "      <td>1</td>\n",
       "      <td>No</td>\n",
       "      <td>...</td>\n",
       "      <td>Yes</td>\n",
       "      <td>1</td>\n",
       "      <td>No</td>\n",
       "      <td>2</td>\n",
       "      <td>59.90</td>\n",
       "      <td>542.40</td>\n",
       "      <td>No</td>\n",
       "      <td>Month-to-month</td>\n",
       "      <td>DSL</td>\n",
       "      <td>Mailed check</td>\n",
       "    </tr>\n",
       "    <tr>\n",
       "      <th>1</th>\n",
       "      <td>0013-MHZWF</td>\n",
       "      <td>Female</td>\n",
       "      <td>0</td>\n",
       "      <td>No</td>\n",
       "      <td>Yes</td>\n",
       "      <td>9</td>\n",
       "      <td>Yes</td>\n",
       "      <td>No</td>\n",
       "      <td>1</td>\n",
       "      <td>No</td>\n",
       "      <td>...</td>\n",
       "      <td>Yes</td>\n",
       "      <td>1</td>\n",
       "      <td>Yes</td>\n",
       "      <td>4</td>\n",
       "      <td>69.40</td>\n",
       "      <td>571.45</td>\n",
       "      <td>No</td>\n",
       "      <td>Month-to-month</td>\n",
       "      <td>DSL</td>\n",
       "      <td>Credit card (automatic)</td>\n",
       "    </tr>\n",
       "    <tr>\n",
       "      <th>2</th>\n",
       "      <td>0015-UOCOJ</td>\n",
       "      <td>Female</td>\n",
       "      <td>1</td>\n",
       "      <td>No</td>\n",
       "      <td>No</td>\n",
       "      <td>7</td>\n",
       "      <td>Yes</td>\n",
       "      <td>No</td>\n",
       "      <td>1</td>\n",
       "      <td>Yes</td>\n",
       "      <td>...</td>\n",
       "      <td>No</td>\n",
       "      <td>1</td>\n",
       "      <td>Yes</td>\n",
       "      <td>1</td>\n",
       "      <td>48.20</td>\n",
       "      <td>340.35</td>\n",
       "      <td>No</td>\n",
       "      <td>Month-to-month</td>\n",
       "      <td>DSL</td>\n",
       "      <td>Electronic check</td>\n",
       "    </tr>\n",
       "    <tr>\n",
       "      <th>3</th>\n",
       "      <td>0023-HGHWL</td>\n",
       "      <td>Male</td>\n",
       "      <td>1</td>\n",
       "      <td>No</td>\n",
       "      <td>No</td>\n",
       "      <td>1</td>\n",
       "      <td>No</td>\n",
       "      <td>No phone service</td>\n",
       "      <td>1</td>\n",
       "      <td>No</td>\n",
       "      <td>...</td>\n",
       "      <td>No</td>\n",
       "      <td>1</td>\n",
       "      <td>Yes</td>\n",
       "      <td>1</td>\n",
       "      <td>25.10</td>\n",
       "      <td>25.10</td>\n",
       "      <td>Yes</td>\n",
       "      <td>Month-to-month</td>\n",
       "      <td>DSL</td>\n",
       "      <td>Electronic check</td>\n",
       "    </tr>\n",
       "    <tr>\n",
       "      <th>4</th>\n",
       "      <td>0032-PGELS</td>\n",
       "      <td>Female</td>\n",
       "      <td>0</td>\n",
       "      <td>Yes</td>\n",
       "      <td>Yes</td>\n",
       "      <td>1</td>\n",
       "      <td>No</td>\n",
       "      <td>No phone service</td>\n",
       "      <td>1</td>\n",
       "      <td>Yes</td>\n",
       "      <td>...</td>\n",
       "      <td>No</td>\n",
       "      <td>1</td>\n",
       "      <td>No</td>\n",
       "      <td>3</td>\n",
       "      <td>30.50</td>\n",
       "      <td>30.50</td>\n",
       "      <td>Yes</td>\n",
       "      <td>Month-to-month</td>\n",
       "      <td>DSL</td>\n",
       "      <td>Bank transfer (automatic)</td>\n",
       "    </tr>\n",
       "    <tr>\n",
       "      <th>...</th>\n",
       "      <td>...</td>\n",
       "      <td>...</td>\n",
       "      <td>...</td>\n",
       "      <td>...</td>\n",
       "      <td>...</td>\n",
       "      <td>...</td>\n",
       "      <td>...</td>\n",
       "      <td>...</td>\n",
       "      <td>...</td>\n",
       "      <td>...</td>\n",
       "      <td>...</td>\n",
       "      <td>...</td>\n",
       "      <td>...</td>\n",
       "      <td>...</td>\n",
       "      <td>...</td>\n",
       "      <td>...</td>\n",
       "      <td>...</td>\n",
       "      <td>...</td>\n",
       "      <td>...</td>\n",
       "      <td>...</td>\n",
       "      <td>...</td>\n",
       "    </tr>\n",
       "    <tr>\n",
       "      <th>7038</th>\n",
       "      <td>9950-MTGYX</td>\n",
       "      <td>Male</td>\n",
       "      <td>0</td>\n",
       "      <td>Yes</td>\n",
       "      <td>Yes</td>\n",
       "      <td>28</td>\n",
       "      <td>Yes</td>\n",
       "      <td>No</td>\n",
       "      <td>3</td>\n",
       "      <td>No internet service</td>\n",
       "      <td>...</td>\n",
       "      <td>No internet service</td>\n",
       "      <td>3</td>\n",
       "      <td>Yes</td>\n",
       "      <td>4</td>\n",
       "      <td>20.30</td>\n",
       "      <td>487.95</td>\n",
       "      <td>No</td>\n",
       "      <td>Two year</td>\n",
       "      <td>None</td>\n",
       "      <td>Credit card (automatic)</td>\n",
       "    </tr>\n",
       "    <tr>\n",
       "      <th>7039</th>\n",
       "      <td>9953-ZMKSM</td>\n",
       "      <td>Male</td>\n",
       "      <td>0</td>\n",
       "      <td>No</td>\n",
       "      <td>No</td>\n",
       "      <td>63</td>\n",
       "      <td>Yes</td>\n",
       "      <td>Yes</td>\n",
       "      <td>3</td>\n",
       "      <td>No internet service</td>\n",
       "      <td>...</td>\n",
       "      <td>No internet service</td>\n",
       "      <td>3</td>\n",
       "      <td>No</td>\n",
       "      <td>2</td>\n",
       "      <td>25.25</td>\n",
       "      <td>1559.30</td>\n",
       "      <td>No</td>\n",
       "      <td>Two year</td>\n",
       "      <td>None</td>\n",
       "      <td>Mailed check</td>\n",
       "    </tr>\n",
       "    <tr>\n",
       "      <th>7040</th>\n",
       "      <td>9964-WBQDJ</td>\n",
       "      <td>Female</td>\n",
       "      <td>0</td>\n",
       "      <td>Yes</td>\n",
       "      <td>No</td>\n",
       "      <td>71</td>\n",
       "      <td>Yes</td>\n",
       "      <td>Yes</td>\n",
       "      <td>3</td>\n",
       "      <td>No internet service</td>\n",
       "      <td>...</td>\n",
       "      <td>No internet service</td>\n",
       "      <td>3</td>\n",
       "      <td>Yes</td>\n",
       "      <td>4</td>\n",
       "      <td>24.40</td>\n",
       "      <td>1725.40</td>\n",
       "      <td>No</td>\n",
       "      <td>Two year</td>\n",
       "      <td>None</td>\n",
       "      <td>Credit card (automatic)</td>\n",
       "    </tr>\n",
       "    <tr>\n",
       "      <th>7041</th>\n",
       "      <td>9972-EWRJS</td>\n",
       "      <td>Female</td>\n",
       "      <td>0</td>\n",
       "      <td>Yes</td>\n",
       "      <td>Yes</td>\n",
       "      <td>67</td>\n",
       "      <td>Yes</td>\n",
       "      <td>No</td>\n",
       "      <td>3</td>\n",
       "      <td>No internet service</td>\n",
       "      <td>...</td>\n",
       "      <td>No internet service</td>\n",
       "      <td>3</td>\n",
       "      <td>Yes</td>\n",
       "      <td>3</td>\n",
       "      <td>19.25</td>\n",
       "      <td>1372.90</td>\n",
       "      <td>No</td>\n",
       "      <td>Two year</td>\n",
       "      <td>None</td>\n",
       "      <td>Bank transfer (automatic)</td>\n",
       "    </tr>\n",
       "    <tr>\n",
       "      <th>7042</th>\n",
       "      <td>9975-GPKZU</td>\n",
       "      <td>Male</td>\n",
       "      <td>0</td>\n",
       "      <td>Yes</td>\n",
       "      <td>Yes</td>\n",
       "      <td>46</td>\n",
       "      <td>Yes</td>\n",
       "      <td>No</td>\n",
       "      <td>3</td>\n",
       "      <td>No internet service</td>\n",
       "      <td>...</td>\n",
       "      <td>No internet service</td>\n",
       "      <td>3</td>\n",
       "      <td>No</td>\n",
       "      <td>4</td>\n",
       "      <td>19.75</td>\n",
       "      <td>856.50</td>\n",
       "      <td>No</td>\n",
       "      <td>Two year</td>\n",
       "      <td>None</td>\n",
       "      <td>Credit card (automatic)</td>\n",
       "    </tr>\n",
       "  </tbody>\n",
       "</table>\n",
       "<p>7032 rows × 24 columns</p>\n",
       "</div>"
      ],
      "text/plain": [
       "     customer_id  gender  senior_citizen partner dependents  tenure  \\\n",
       "0     0003-MKNFE    Male               0      No         No       9   \n",
       "1     0013-MHZWF  Female               0      No        Yes       9   \n",
       "2     0015-UOCOJ  Female               1      No         No       7   \n",
       "3     0023-HGHWL    Male               1      No         No       1   \n",
       "4     0032-PGELS  Female               0     Yes        Yes       1   \n",
       "...          ...     ...             ...     ...        ...     ...   \n",
       "7038  9950-MTGYX    Male               0     Yes        Yes      28   \n",
       "7039  9953-ZMKSM    Male               0      No         No      63   \n",
       "7040  9964-WBQDJ  Female               0     Yes         No      71   \n",
       "7041  9972-EWRJS  Female               0     Yes        Yes      67   \n",
       "7042  9975-GPKZU    Male               0     Yes        Yes      46   \n",
       "\n",
       "     phone_service    multiple_lines  internet_service_type_id  \\\n",
       "0              Yes               Yes                         1   \n",
       "1              Yes                No                         1   \n",
       "2              Yes                No                         1   \n",
       "3               No  No phone service                         1   \n",
       "4               No  No phone service                         1   \n",
       "...            ...               ...                       ...   \n",
       "7038           Yes                No                         3   \n",
       "7039           Yes               Yes                         3   \n",
       "7040           Yes               Yes                         3   \n",
       "7041           Yes                No                         3   \n",
       "7042           Yes                No                         3   \n",
       "\n",
       "          online_security  ...     streaming_movies contract_type_id  \\\n",
       "0                      No  ...                  Yes                1   \n",
       "1                      No  ...                  Yes                1   \n",
       "2                     Yes  ...                   No                1   \n",
       "3                      No  ...                   No                1   \n",
       "4                     Yes  ...                   No                1   \n",
       "...                   ...  ...                  ...              ...   \n",
       "7038  No internet service  ...  No internet service                3   \n",
       "7039  No internet service  ...  No internet service                3   \n",
       "7040  No internet service  ...  No internet service                3   \n",
       "7041  No internet service  ...  No internet service                3   \n",
       "7042  No internet service  ...  No internet service                3   \n",
       "\n",
       "     paperless_billing payment_type_id monthly_charges  total_charges churn  \\\n",
       "0                   No               2           59.90         542.40    No   \n",
       "1                  Yes               4           69.40         571.45    No   \n",
       "2                  Yes               1           48.20         340.35    No   \n",
       "3                  Yes               1           25.10          25.10   Yes   \n",
       "4                   No               3           30.50          30.50   Yes   \n",
       "...                ...             ...             ...            ...   ...   \n",
       "7038               Yes               4           20.30         487.95    No   \n",
       "7039                No               2           25.25        1559.30    No   \n",
       "7040               Yes               4           24.40        1725.40    No   \n",
       "7041               Yes               3           19.25        1372.90    No   \n",
       "7042                No               4           19.75         856.50    No   \n",
       "\n",
       "       contract_type  internet_service_type               payment_type  \n",
       "0     Month-to-month                    DSL               Mailed check  \n",
       "1     Month-to-month                    DSL    Credit card (automatic)  \n",
       "2     Month-to-month                    DSL           Electronic check  \n",
       "3     Month-to-month                    DSL           Electronic check  \n",
       "4     Month-to-month                    DSL  Bank transfer (automatic)  \n",
       "...              ...                    ...                        ...  \n",
       "7038        Two year                   None    Credit card (automatic)  \n",
       "7039        Two year                   None               Mailed check  \n",
       "7040        Two year                   None    Credit card (automatic)  \n",
       "7041        Two year                   None  Bank transfer (automatic)  \n",
       "7042        Two year                   None    Credit card (automatic)  \n",
       "\n",
       "[7032 rows x 24 columns]"
      ]
     },
     "execution_count": 13,
     "metadata": {},
     "output_type": "execute_result"
    }
   ],
   "source": [
    "# using boolean mask to get the data where tenure is not equal to 0\n",
    "\n",
    "telco = telco[telco.tenure != 0]\n",
    "telco"
   ]
  },
  {
   "cell_type": "markdown",
   "metadata": {},
   "source": [
    "- Lets combine some columns such as: partner and dependents, streaming_tv and streaming_movies, phone_service and multiple_lines, online_security and online_backup"
   ]
  },
  {
   "cell_type": "code",
   "execution_count": 14,
   "metadata": {},
   "outputs": [],
   "source": [
    "\n",
    "# we are combining partner and dependents to make one column named partner_dependents which will hold True if  \n",
    "# customers have both partners and dependents, else it will hold False\n",
    "conditions = [(telco['partner']== \"Yes\") & (telco['dependents'] == 'Yes'),\n",
    "             (telco['partner']== \"No\") & (telco['dependents'] == 'No')]\n",
    "\n",
    "\n",
    "values = [True, False]\n",
    "\n",
    "telco['partner_dependents'] = np.select(conditions, values)\n",
    "    \n",
    "\n",
    "# we are combining phone_service and multiple_lines to make one columns named phone_and_multiple_lines which will \n",
    "# hold a True value if a customer have both, else False\n",
    "    \n",
    "    \n",
    "conditions1 = [(telco['phone_service'] == 'Yes') & (telco['multiple_lines'] == 'Yes'),\n",
    "              (telco['phone_service']  == 'Yes') & (telco['multiple_lines'] == 'No'), \n",
    "              (telco['phone_service']  == 'Yes') & (telco['multiple_lines'] == 'No phone service'),\n",
    "              (telco['phone_service']  == 'No') & (telco['multiple_lines'] == 'No'),\n",
    "             (telco['phone_service']  == 'No') & (telco['multiple_lines'] == 'Yes'),\n",
    "              (telco['phone_service']  == 'No') & (telco['multiple_lines'] == 'No phone service')   \n",
    "             ]\n",
    "\n",
    "values1 = [True, False, False, False, False,False ]\n",
    "\n",
    "telco['phone_and_multiple_lines'] = np.select(conditions1, values1)\n",
    "    \n",
    "\n",
    "\n",
    "# we are combining streaming_tv and streaming_movies to make one columns named streaming_tv_movies which will \n",
    "# hold a True value if a customer streams both, else False   \n",
    "\n",
    "    \n",
    "conditions2 = [(telco['streaming_tv']=='Yes') & (telco['streaming_movies'] == 'Yes'),\n",
    "              (telco['streaming_tv']=='No') & (telco['streaming_movies'] == 'No')]\n",
    "\n",
    "\n",
    "values2 = [True, False ]\n",
    "\n",
    "\n",
    "telco['streaming_tv_movie'] = np.select(conditions2, values2)\n",
    "    \n",
    "    \n",
    "    \n",
    "# we are combining online_security and online_backup to make one columns named online_security_and_backup which will \n",
    "# hold a True value for if a customer have both service, else False   \n",
    "    \n",
    "    \n",
    "conditions3 = [(telco['online_security']=='Yes') & (telco['online_backup'] == 'Yes'),\n",
    "              (telco['online_security']=='No') & (telco['online_backup'] == 'No')]\n",
    "\n",
    "values3 = [True, False]\n",
    "    \n",
    "    \n",
    "telco['online_security_and_backup'] = np.select(conditions3, values3)\n",
    "    \n",
    "    \n",
    "telco = telco.replace({'payment_type':{'Bank transfer (automatic)':'payment_auto', 'Credit card (automatic)': 'payment_auto',\n",
    "                                      'Mailed check': 'payment_not_auto', 'Electronic check': 'payment_not_auto'}})\n",
    "telco = telco.rename(columns = {'payment_type': 'payment_auto'})\n",
    "    \n",
    "   "
   ]
  },
  {
   "cell_type": "markdown",
   "metadata": {},
   "source": [
    "- lets change the Yes to 1 and No to 0 for all the columns that have yes and no as values"
   ]
  },
  {
   "cell_type": "code",
   "execution_count": 15,
   "metadata": {},
   "outputs": [],
   "source": [
    "# changing all the Yes to 1, and all the No to 0\n",
    "\n",
    "telco = telco.replace({'churn':{'Yes':1, 'No': 0}})\n",
    "    \n",
    "telco = telco.replace({'partner':{'Yes':1, 'No': 0}})\n",
    "    \n",
    "telco = telco.replace({'dependents':{'Yes':1, 'No': 0}})\n",
    "    \n",
    "telco = telco.replace({'paperless_billing':{'Yes':1, 'No': 0}})\n",
    "    \n",
    "telco = telco.replace({'phone_service':{'Yes':1, 'No': 0}})"
   ]
  },
  {
   "cell_type": "markdown",
   "metadata": {},
   "source": [
    "- changing yes to 1, no to 0, and no internet or phone service to 0"
   ]
  },
  {
   "cell_type": "code",
   "execution_count": 16,
   "metadata": {},
   "outputs": [],
   "source": [
    "telco = telco.replace({'streaming_tv': {'Yes': 1, 'No internet service': 0, 'No':0}})\n",
    "    \n",
    "telco = telco.replace({'streaming_movies': {'Yes': 1, 'No internet service': 0, 'No':0}})\n",
    "    \n",
    "telco = telco.replace({'multiple_lines': {'Yes': 1, 'No internet service': 0, 'No':0, 'No phone service': 0}})\n",
    "    \n",
    "telco = telco.replace({'online_security': {'Yes': 1, 'No internet service': 0, 'No':0}})\n",
    "    \n",
    "telco = telco.replace({'online_backup': {'Yes': 1, 'No internet service': 0, 'No':0}})\n",
    "    \n",
    "telco = telco.replace({'device_protection': {'Yes': 1, 'No internet service': 0, 'No':0}})\n",
    "    \n",
    "telco = telco.replace({'tech_support': {'Yes': 1, 'No internet service': 0, 'No':0}})\n",
    "\n",
    "telco = telco.replace({'payment_auto': {'payment_auto': 1, 'payment_not_auto': 0}})"
   ]
  },
  {
   "cell_type": "code",
   "execution_count": 17,
   "metadata": {},
   "outputs": [
    {
     "data": {
      "text/html": [
       "<div>\n",
       "<style scoped>\n",
       "    .dataframe tbody tr th:only-of-type {\n",
       "        vertical-align: middle;\n",
       "    }\n",
       "\n",
       "    .dataframe tbody tr th {\n",
       "        vertical-align: top;\n",
       "    }\n",
       "\n",
       "    .dataframe thead th {\n",
       "        text-align: right;\n",
       "    }\n",
       "</style>\n",
       "<table border=\"1\" class=\"dataframe\">\n",
       "  <thead>\n",
       "    <tr style=\"text-align: right;\">\n",
       "      <th></th>\n",
       "      <th>customer_id</th>\n",
       "      <th>gender</th>\n",
       "      <th>senior_citizen</th>\n",
       "      <th>partner</th>\n",
       "      <th>dependents</th>\n",
       "      <th>tenure</th>\n",
       "      <th>phone_service</th>\n",
       "      <th>multiple_lines</th>\n",
       "      <th>internet_service_type_id</th>\n",
       "      <th>online_security</th>\n",
       "      <th>...</th>\n",
       "      <th>monthly_charges</th>\n",
       "      <th>total_charges</th>\n",
       "      <th>churn</th>\n",
       "      <th>contract_type</th>\n",
       "      <th>internet_service_type</th>\n",
       "      <th>payment_auto</th>\n",
       "      <th>partner_dependents</th>\n",
       "      <th>phone_and_multiple_lines</th>\n",
       "      <th>streaming_tv_movie</th>\n",
       "      <th>online_security_and_backup</th>\n",
       "    </tr>\n",
       "  </thead>\n",
       "  <tbody>\n",
       "    <tr>\n",
       "      <th>0</th>\n",
       "      <td>0003-MKNFE</td>\n",
       "      <td>Male</td>\n",
       "      <td>0</td>\n",
       "      <td>0</td>\n",
       "      <td>0</td>\n",
       "      <td>9</td>\n",
       "      <td>1</td>\n",
       "      <td>1</td>\n",
       "      <td>1</td>\n",
       "      <td>0</td>\n",
       "      <td>...</td>\n",
       "      <td>59.90</td>\n",
       "      <td>542.40</td>\n",
       "      <td>0</td>\n",
       "      <td>Month-to-month</td>\n",
       "      <td>DSL</td>\n",
       "      <td>0</td>\n",
       "      <td>0</td>\n",
       "      <td>1</td>\n",
       "      <td>0</td>\n",
       "      <td>0</td>\n",
       "    </tr>\n",
       "    <tr>\n",
       "      <th>1</th>\n",
       "      <td>0013-MHZWF</td>\n",
       "      <td>Female</td>\n",
       "      <td>0</td>\n",
       "      <td>0</td>\n",
       "      <td>1</td>\n",
       "      <td>9</td>\n",
       "      <td>1</td>\n",
       "      <td>0</td>\n",
       "      <td>1</td>\n",
       "      <td>0</td>\n",
       "      <td>...</td>\n",
       "      <td>69.40</td>\n",
       "      <td>571.45</td>\n",
       "      <td>0</td>\n",
       "      <td>Month-to-month</td>\n",
       "      <td>DSL</td>\n",
       "      <td>1</td>\n",
       "      <td>0</td>\n",
       "      <td>0</td>\n",
       "      <td>1</td>\n",
       "      <td>0</td>\n",
       "    </tr>\n",
       "    <tr>\n",
       "      <th>2</th>\n",
       "      <td>0015-UOCOJ</td>\n",
       "      <td>Female</td>\n",
       "      <td>1</td>\n",
       "      <td>0</td>\n",
       "      <td>0</td>\n",
       "      <td>7</td>\n",
       "      <td>1</td>\n",
       "      <td>0</td>\n",
       "      <td>1</td>\n",
       "      <td>1</td>\n",
       "      <td>...</td>\n",
       "      <td>48.20</td>\n",
       "      <td>340.35</td>\n",
       "      <td>0</td>\n",
       "      <td>Month-to-month</td>\n",
       "      <td>DSL</td>\n",
       "      <td>0</td>\n",
       "      <td>0</td>\n",
       "      <td>0</td>\n",
       "      <td>0</td>\n",
       "      <td>0</td>\n",
       "    </tr>\n",
       "    <tr>\n",
       "      <th>3</th>\n",
       "      <td>0023-HGHWL</td>\n",
       "      <td>Male</td>\n",
       "      <td>1</td>\n",
       "      <td>0</td>\n",
       "      <td>0</td>\n",
       "      <td>1</td>\n",
       "      <td>0</td>\n",
       "      <td>0</td>\n",
       "      <td>1</td>\n",
       "      <td>0</td>\n",
       "      <td>...</td>\n",
       "      <td>25.10</td>\n",
       "      <td>25.10</td>\n",
       "      <td>1</td>\n",
       "      <td>Month-to-month</td>\n",
       "      <td>DSL</td>\n",
       "      <td>0</td>\n",
       "      <td>0</td>\n",
       "      <td>0</td>\n",
       "      <td>0</td>\n",
       "      <td>0</td>\n",
       "    </tr>\n",
       "    <tr>\n",
       "      <th>4</th>\n",
       "      <td>0032-PGELS</td>\n",
       "      <td>Female</td>\n",
       "      <td>0</td>\n",
       "      <td>1</td>\n",
       "      <td>1</td>\n",
       "      <td>1</td>\n",
       "      <td>0</td>\n",
       "      <td>0</td>\n",
       "      <td>1</td>\n",
       "      <td>1</td>\n",
       "      <td>...</td>\n",
       "      <td>30.50</td>\n",
       "      <td>30.50</td>\n",
       "      <td>1</td>\n",
       "      <td>Month-to-month</td>\n",
       "      <td>DSL</td>\n",
       "      <td>1</td>\n",
       "      <td>1</td>\n",
       "      <td>0</td>\n",
       "      <td>0</td>\n",
       "      <td>0</td>\n",
       "    </tr>\n",
       "    <tr>\n",
       "      <th>...</th>\n",
       "      <td>...</td>\n",
       "      <td>...</td>\n",
       "      <td>...</td>\n",
       "      <td>...</td>\n",
       "      <td>...</td>\n",
       "      <td>...</td>\n",
       "      <td>...</td>\n",
       "      <td>...</td>\n",
       "      <td>...</td>\n",
       "      <td>...</td>\n",
       "      <td>...</td>\n",
       "      <td>...</td>\n",
       "      <td>...</td>\n",
       "      <td>...</td>\n",
       "      <td>...</td>\n",
       "      <td>...</td>\n",
       "      <td>...</td>\n",
       "      <td>...</td>\n",
       "      <td>...</td>\n",
       "      <td>...</td>\n",
       "      <td>...</td>\n",
       "    </tr>\n",
       "    <tr>\n",
       "      <th>7038</th>\n",
       "      <td>9950-MTGYX</td>\n",
       "      <td>Male</td>\n",
       "      <td>0</td>\n",
       "      <td>1</td>\n",
       "      <td>1</td>\n",
       "      <td>28</td>\n",
       "      <td>1</td>\n",
       "      <td>0</td>\n",
       "      <td>3</td>\n",
       "      <td>0</td>\n",
       "      <td>...</td>\n",
       "      <td>20.30</td>\n",
       "      <td>487.95</td>\n",
       "      <td>0</td>\n",
       "      <td>Two year</td>\n",
       "      <td>None</td>\n",
       "      <td>1</td>\n",
       "      <td>1</td>\n",
       "      <td>0</td>\n",
       "      <td>0</td>\n",
       "      <td>0</td>\n",
       "    </tr>\n",
       "    <tr>\n",
       "      <th>7039</th>\n",
       "      <td>9953-ZMKSM</td>\n",
       "      <td>Male</td>\n",
       "      <td>0</td>\n",
       "      <td>0</td>\n",
       "      <td>0</td>\n",
       "      <td>63</td>\n",
       "      <td>1</td>\n",
       "      <td>1</td>\n",
       "      <td>3</td>\n",
       "      <td>0</td>\n",
       "      <td>...</td>\n",
       "      <td>25.25</td>\n",
       "      <td>1559.30</td>\n",
       "      <td>0</td>\n",
       "      <td>Two year</td>\n",
       "      <td>None</td>\n",
       "      <td>0</td>\n",
       "      <td>0</td>\n",
       "      <td>1</td>\n",
       "      <td>0</td>\n",
       "      <td>0</td>\n",
       "    </tr>\n",
       "    <tr>\n",
       "      <th>7040</th>\n",
       "      <td>9964-WBQDJ</td>\n",
       "      <td>Female</td>\n",
       "      <td>0</td>\n",
       "      <td>1</td>\n",
       "      <td>0</td>\n",
       "      <td>71</td>\n",
       "      <td>1</td>\n",
       "      <td>1</td>\n",
       "      <td>3</td>\n",
       "      <td>0</td>\n",
       "      <td>...</td>\n",
       "      <td>24.40</td>\n",
       "      <td>1725.40</td>\n",
       "      <td>0</td>\n",
       "      <td>Two year</td>\n",
       "      <td>None</td>\n",
       "      <td>1</td>\n",
       "      <td>0</td>\n",
       "      <td>1</td>\n",
       "      <td>0</td>\n",
       "      <td>0</td>\n",
       "    </tr>\n",
       "    <tr>\n",
       "      <th>7041</th>\n",
       "      <td>9972-EWRJS</td>\n",
       "      <td>Female</td>\n",
       "      <td>0</td>\n",
       "      <td>1</td>\n",
       "      <td>1</td>\n",
       "      <td>67</td>\n",
       "      <td>1</td>\n",
       "      <td>0</td>\n",
       "      <td>3</td>\n",
       "      <td>0</td>\n",
       "      <td>...</td>\n",
       "      <td>19.25</td>\n",
       "      <td>1372.90</td>\n",
       "      <td>0</td>\n",
       "      <td>Two year</td>\n",
       "      <td>None</td>\n",
       "      <td>1</td>\n",
       "      <td>1</td>\n",
       "      <td>0</td>\n",
       "      <td>0</td>\n",
       "      <td>0</td>\n",
       "    </tr>\n",
       "    <tr>\n",
       "      <th>7042</th>\n",
       "      <td>9975-GPKZU</td>\n",
       "      <td>Male</td>\n",
       "      <td>0</td>\n",
       "      <td>1</td>\n",
       "      <td>1</td>\n",
       "      <td>46</td>\n",
       "      <td>1</td>\n",
       "      <td>0</td>\n",
       "      <td>3</td>\n",
       "      <td>0</td>\n",
       "      <td>...</td>\n",
       "      <td>19.75</td>\n",
       "      <td>856.50</td>\n",
       "      <td>0</td>\n",
       "      <td>Two year</td>\n",
       "      <td>None</td>\n",
       "      <td>1</td>\n",
       "      <td>1</td>\n",
       "      <td>0</td>\n",
       "      <td>0</td>\n",
       "      <td>0</td>\n",
       "    </tr>\n",
       "  </tbody>\n",
       "</table>\n",
       "<p>7032 rows × 28 columns</p>\n",
       "</div>"
      ],
      "text/plain": [
       "     customer_id  gender  senior_citizen  partner  dependents  tenure  \\\n",
       "0     0003-MKNFE    Male               0        0           0       9   \n",
       "1     0013-MHZWF  Female               0        0           1       9   \n",
       "2     0015-UOCOJ  Female               1        0           0       7   \n",
       "3     0023-HGHWL    Male               1        0           0       1   \n",
       "4     0032-PGELS  Female               0        1           1       1   \n",
       "...          ...     ...             ...      ...         ...     ...   \n",
       "7038  9950-MTGYX    Male               0        1           1      28   \n",
       "7039  9953-ZMKSM    Male               0        0           0      63   \n",
       "7040  9964-WBQDJ  Female               0        1           0      71   \n",
       "7041  9972-EWRJS  Female               0        1           1      67   \n",
       "7042  9975-GPKZU    Male               0        1           1      46   \n",
       "\n",
       "      phone_service  multiple_lines  internet_service_type_id  \\\n",
       "0                 1               1                         1   \n",
       "1                 1               0                         1   \n",
       "2                 1               0                         1   \n",
       "3                 0               0                         1   \n",
       "4                 0               0                         1   \n",
       "...             ...             ...                       ...   \n",
       "7038              1               0                         3   \n",
       "7039              1               1                         3   \n",
       "7040              1               1                         3   \n",
       "7041              1               0                         3   \n",
       "7042              1               0                         3   \n",
       "\n",
       "      online_security  ...  monthly_charges  total_charges  churn  \\\n",
       "0                   0  ...            59.90         542.40      0   \n",
       "1                   0  ...            69.40         571.45      0   \n",
       "2                   1  ...            48.20         340.35      0   \n",
       "3                   0  ...            25.10          25.10      1   \n",
       "4                   1  ...            30.50          30.50      1   \n",
       "...               ...  ...              ...            ...    ...   \n",
       "7038                0  ...            20.30         487.95      0   \n",
       "7039                0  ...            25.25        1559.30      0   \n",
       "7040                0  ...            24.40        1725.40      0   \n",
       "7041                0  ...            19.25        1372.90      0   \n",
       "7042                0  ...            19.75         856.50      0   \n",
       "\n",
       "       contract_type  internet_service_type  payment_auto  partner_dependents  \\\n",
       "0     Month-to-month                    DSL             0                   0   \n",
       "1     Month-to-month                    DSL             1                   0   \n",
       "2     Month-to-month                    DSL             0                   0   \n",
       "3     Month-to-month                    DSL             0                   0   \n",
       "4     Month-to-month                    DSL             1                   1   \n",
       "...              ...                    ...           ...                 ...   \n",
       "7038        Two year                   None             1                   1   \n",
       "7039        Two year                   None             0                   0   \n",
       "7040        Two year                   None             1                   0   \n",
       "7041        Two year                   None             1                   1   \n",
       "7042        Two year                   None             1                   1   \n",
       "\n",
       "      phone_and_multiple_lines  streaming_tv_movie  online_security_and_backup  \n",
       "0                            1                   0                           0  \n",
       "1                            0                   1                           0  \n",
       "2                            0                   0                           0  \n",
       "3                            0                   0                           0  \n",
       "4                            0                   0                           0  \n",
       "...                        ...                 ...                         ...  \n",
       "7038                         0                   0                           0  \n",
       "7039                         1                   0                           0  \n",
       "7040                         1                   0                           0  \n",
       "7041                         0                   0                           0  \n",
       "7042                         0                   0                           0  \n",
       "\n",
       "[7032 rows x 28 columns]"
      ]
     },
     "execution_count": 17,
     "metadata": {},
     "output_type": "execute_result"
    }
   ],
   "source": [
    "telco"
   ]
  },
  {
   "cell_type": "code",
   "execution_count": 18,
   "metadata": {},
   "outputs": [
    {
     "data": {
      "text/plain": [
       "customer_id                    object\n",
       "gender                         object\n",
       "senior_citizen                  int64\n",
       "partner                         int64\n",
       "dependents                      int64\n",
       "tenure                          int64\n",
       "phone_service                   int64\n",
       "multiple_lines                  int64\n",
       "internet_service_type_id        int64\n",
       "online_security                 int64\n",
       "online_backup                   int64\n",
       "device_protection               int64\n",
       "tech_support                    int64\n",
       "streaming_tv                    int64\n",
       "streaming_movies                int64\n",
       "contract_type_id                int64\n",
       "paperless_billing               int64\n",
       "payment_type_id                 int64\n",
       "monthly_charges               float64\n",
       "total_charges                 float64\n",
       "churn                           int64\n",
       "contract_type                  object\n",
       "internet_service_type          object\n",
       "payment_auto                    int64\n",
       "partner_dependents              int64\n",
       "phone_and_multiple_lines        int64\n",
       "streaming_tv_movie              int64\n",
       "online_security_and_backup      int64\n",
       "dtype: object"
      ]
     },
     "execution_count": 18,
     "metadata": {},
     "output_type": "execute_result"
    }
   ],
   "source": [
    "telco.dtypes"
   ]
  },
  {
   "cell_type": "markdown",
   "metadata": {},
   "source": [
    "- lets conver the contract type and internet service type using dummy variables\n"
   ]
  },
  {
   "cell_type": "code",
   "execution_count": 19,
   "metadata": {},
   "outputs": [],
   "source": [
    "# almost done with converting the columns to numeric type\n",
    "\n",
    "\n",
    "dummies_contract_type = pd.get_dummies(telco.contract_type)\n",
    "    \n",
    "dummies_internet_type = pd.get_dummies(telco.internet_service_type)\n",
    "    \n",
    "telco = pd.concat([telco, dummies_contract_type, dummies_internet_type], axis = 1)"
   ]
  },
  {
   "cell_type": "code",
   "execution_count": 20,
   "metadata": {},
   "outputs": [
    {
     "data": {
      "text/plain": [
       "customer_id                    object\n",
       "gender                         object\n",
       "senior_citizen                  int64\n",
       "partner                         int64\n",
       "dependents                      int64\n",
       "tenure                          int64\n",
       "phone_service                   int64\n",
       "multiple_lines                  int64\n",
       "internet_service_type_id        int64\n",
       "online_security                 int64\n",
       "online_backup                   int64\n",
       "device_protection               int64\n",
       "tech_support                    int64\n",
       "streaming_tv                    int64\n",
       "streaming_movies                int64\n",
       "contract_type_id                int64\n",
       "paperless_billing               int64\n",
       "payment_type_id                 int64\n",
       "monthly_charges               float64\n",
       "total_charges                 float64\n",
       "churn                           int64\n",
       "contract_type                  object\n",
       "internet_service_type          object\n",
       "payment_auto                    int64\n",
       "partner_dependents              int64\n",
       "phone_and_multiple_lines        int64\n",
       "streaming_tv_movie              int64\n",
       "online_security_and_backup      int64\n",
       "Month-to-month                  uint8\n",
       "One year                        uint8\n",
       "Two year                        uint8\n",
       "DSL                             uint8\n",
       "Fiber optic                     uint8\n",
       "None                            uint8\n",
       "dtype: object"
      ]
     },
     "execution_count": 20,
     "metadata": {},
     "output_type": "execute_result"
    }
   ],
   "source": [
    "telco.dtypes"
   ]
  },
  {
   "cell_type": "markdown",
   "metadata": {},
   "source": [
    "- Drop unused/redundant/duplicated columns"
   ]
  },
  {
   "cell_type": "code",
   "execution_count": 21,
   "metadata": {
    "scrolled": true
   },
   "outputs": [],
   "source": [
    "cols_to_drop = ['internet_service_type', 'None', 'contract_type', 'payment_type_id', \n",
    "                    'internet_service_type_id','contract_type_id','gender']\n",
    "    \n",
    "    \n",
    "telco = telco.drop(columns = cols_to_drop)"
   ]
  },
  {
   "cell_type": "markdown",
   "metadata": {},
   "source": [
    "- split the data"
   ]
  },
  {
   "cell_type": "code",
   "execution_count": 22,
   "metadata": {},
   "outputs": [],
   "source": [
    "# in our prepare.py file, we have defined a function that splits data into train, test, and validate with \n",
    "# with stratification of churn column\n",
    "\n",
    "train, test, validate = prepare.split_data(telco)"
   ]
  },
  {
   "cell_type": "markdown",
   "metadata": {},
   "source": [
    "- that concludes data preparation phase.\n",
    "\n",
    "\n",
    "**Data Exploration**\n",
    "- Explore various variables to discover relationships, correlation\n",
    "- Formulate hypothesis and perform hypothesis test\n"
   ]
  },
  {
   "cell_type": "code",
   "execution_count": 23,
   "metadata": {},
   "outputs": [
    {
     "name": "stdout",
     "output_type": "stream",
     "text": [
      "Number of customers that churn is: 1196\n",
      "\n",
      "Percentage of the customers that churn is: 26.57777777777778\n"
     ]
    }
   ],
   "source": [
    "# lets check how many of our customers churn?\n",
    "print(f'Number of customers that churn is: {train.churn.value_counts()[1]}')\n",
    "print('')\n",
    "\n",
    "print(f'Percentage of the customers that churn is: {train.churn.value_counts()[1]/len(train)*100}')\n",
    "\n",
    "## Approximately 27 % of our customers churn"
   ]
  },
  {
   "cell_type": "code",
   "execution_count": 24,
   "metadata": {},
   "outputs": [
    {
     "name": "stdout",
     "output_type": "stream",
     "text": [
      "Number of customers who churn within the first year: 681\n"
     ]
    },
    {
     "data": {
      "image/png": "[encoded data removed]",
      "text/plain": [
       "<Figure size 432x288 with 1 Axes>"
      ]
     },
     "metadata": {
      "needs_background": "light"
     },
     "output_type": "display_data"
    }
   ],
   "source": [
    "# lets check when they churn\n",
    "\n",
    "print(f'Number of customers who churn within the first year: {train[train.churn == 1].tenure.value_counts().head(12).sum()}')\n",
    "\n",
    "# out of 1196 customers 681 left within the first year\n",
    "\n",
    "train.churn.value_counts().plot(kind = 'bar', color = 'red')\n",
    "plt.title('How many customers churn in first year?')\n",
    "plt.show()"
   ]
  },
  {
   "cell_type": "code",
   "execution_count": 25,
   "metadata": {},
   "outputs": [
    {
     "data": {
      "image/png": "[encoded data removed]",
      "text/plain": [
       "<Figure size 432x288 with 1 Axes>"
      ]
     },
     "metadata": {
      "needs_background": "light"
     },
     "output_type": "display_data"
    }
   ],
   "source": [
    "# lets check what tenure month they churn\n",
    "\n",
    "train[train.churn == 1].tenure.value_counts().head(12).plot(kind = 'bar', color = 'red')\n",
    "plt.title('What tenure month do customers churn?')\n",
    "plt.show()"
   ]
  },
  {
   "cell_type": "code",
   "execution_count": 26,
   "metadata": {},
   "outputs": [
    {
     "name": "stdout",
     "output_type": "stream",
     "text": [
      "1    1060\n",
      "0     136\n",
      "Name: Month-to-month, dtype: int64\n"
     ]
    },
    {
     "data": {
      "image/png": "[encoded data removed]",
      "text/plain": [
       "<Figure size 432x288 with 1 Axes>"
      ]
     },
     "metadata": {
      "needs_background": "light"
     },
     "output_type": "display_data"
    }
   ],
   "source": [
    "# lets check what contract type churn the most?\n",
    "print(train[train.churn == 1]['Month-to-month'].value_counts())\n",
    "\n",
    "\n",
    "train[train.churn == 1]['Month-to-month'].value_counts().plot(kind = 'bar', color = 'red')\n",
    "plt.title('Do month to month contract type churn the most?')\n",
    "plt.show()\n",
    "\n",
    "## we can see that majority of the customers that churn are month to month"
   ]
  },
  {
   "cell_type": "code",
   "execution_count": 27,
   "metadata": {},
   "outputs": [
    {
     "name": "stdout",
     "output_type": "stream",
     "text": [
      "0    1895\n",
      "1    1409\n",
      "Name: Month-to-month, dtype: int64\n",
      "\n",
      "0    2480\n",
      "1     824\n",
      "Name: One year, dtype: int64\n",
      "\n",
      "0    2233\n",
      "1    1071\n",
      "Name: Two year, dtype: int64\n"
     ]
    }
   ],
   "source": [
    "# How about the customers who stay? Are majority of them month to month? or other contract type?\n",
    "print(train[train.churn == 0]['Month-to-month'].value_counts())\n",
    "print('')\n",
    "\n",
    "print(train[train.churn == 0]['One year'].value_counts())\n",
    "print('')\n",
    "\n",
    "print(train[train.churn == 0]['Two year'].value_counts())\n",
    "\n",
    "\n",
    "# Majority of the customers who stay are not the month to month customers"
   ]
  },
  {
   "cell_type": "code",
   "execution_count": 28,
   "metadata": {},
   "outputs": [
    {
     "data": {
      "image/png": "[encoded data removed]",
      "text/plain": [
       "<Figure size 432x288 with 1 Axes>"
      ]
     },
     "metadata": {
      "needs_background": "light"
     },
     "output_type": "display_data"
    }
   ],
   "source": [
    "train[train.churn == 0]['Month-to-month'].value_counts().plot(kind = 'bar', color = 'green')\n",
    "plt.title('Do majority of the current customers are month to month contract types?')\n",
    "plt.show()\n",
    "\n",
    "\n",
    "\n",
    "## Majority of the customers that tend to stay are the ones with contract type other than month to month"
   ]
  },
  {
   "cell_type": "code",
   "execution_count": 29,
   "metadata": {},
   "outputs": [
    {
     "data": {
      "image/png": "[encoded data removed]",
      "text/plain": [
       "<Figure size 648x648 with 1 Axes>"
      ]
     },
     "metadata": {
      "needs_background": "light"
     },
     "output_type": "display_data"
    }
   ],
   "source": [
    "# are there other things that might have influenced churn? How about monthly charge? lets take a look\n",
    "\n",
    "plt.figure(figsize= (9,9))\n",
    "\n",
    "train[train.churn == 1].groupby('tenure').monthly_charges.mean().head(12).plot(color = 'black')\n",
    "\n",
    "train[train.churn == 0].groupby('tenure').monthly_charges.mean().head(12).plot(color = 'green')\n",
    "\n",
    "plt.xlabel('Tenure')\n",
    "\n",
    "plt.ylabel('Average Monthly Charges')\n",
    "\n",
    "plt.title(\"How much more did churned customers paid compared to current customers\")\n",
    "\n",
    "plt.annotate('Churned Customers', xy = (5, 72), xytext=(3, 78),arrowprops={'facecolor': 'blue'}, color = 'red')\n",
    "\n",
    "plt.annotate('Current Customers', xy = (5, 45), xytext=(4, 40),arrowprops={'facecolor': 'blue'}, color = 'red')\n",
    "\n",
    "plt.show()\n",
    "\n",
    "\n",
    "## the customers that churn, on average, pay significantly higher than those that dont churn"
   ]
  },
  {
   "cell_type": "code",
   "execution_count": 30,
   "metadata": {},
   "outputs": [
    {
     "data": {
      "image/png": "[encoded data removed]",
      "text/plain": [
       "<Figure size 432x288 with 1 Axes>"
      ]
     },
     "metadata": {
      "needs_background": "light"
     },
     "output_type": "display_data"
    }
   ],
   "source": [
    "# so why are they paying more? is it because they have multiple lines? enrolled in various other services? \n",
    "# lets take a look\n",
    "\n",
    "\n",
    "\n",
    "\n",
    "train[train.churn == 1]['Fiber optic'].value_counts().plot(kind = 'bar', color = 'red')\n",
    "\n",
    "plt.title('Do customers churn because they have Fiber optic?')\n",
    "\n",
    "## we can see that majority of the customers who churn have fiber optic\n",
    "\n",
    "plt.show()\n"
   ]
  },
  {
   "cell_type": "code",
   "execution_count": 31,
   "metadata": {},
   "outputs": [
    {
     "data": {
      "image/png": "[encoded data removed]",
      "text/plain": [
       "<Figure size 432x288 with 1 Axes>"
      ]
     },
     "metadata": {
      "needs_background": "light"
     },
     "output_type": "display_data"
    }
   ],
   "source": [
    "# lets check how the monthly average compares between churned customers with fiber optic and current customers\n",
    "# with fiber optic\n",
    "churn = train[train.churn == 1]\n",
    "\n",
    "not_churn = train[train.churn ==0]\n",
    "\n",
    "churn[churn['Fiber optic']==1].groupby('tenure').monthly_charges.mean().head(12).plot(color = 'red')\n",
    "\n",
    "not_churn[not_churn['Fiber optic']==1].groupby('tenure').monthly_charges.mean().head(12).plot(color = 'green')\n",
    "\n",
    "plt.title('Do churn customer pay more for fiber optic?')\n",
    "\n",
    "plt.show()\n",
    "\n",
    "\n",
    "\n",
    "## Customers who churned and had fiber optic paid relatively higher monthly charge than current customers\n",
    "## with fiber optic"
   ]
  },
  {
   "cell_type": "code",
   "execution_count": 35,
   "metadata": {},
   "outputs": [
    {
     "data": {
      "image/png": "[encoded data removed]",
      "text/plain": [
       "<Figure size 432x288 with 1 Axes>"
      ]
     },
     "metadata": {
      "needs_background": "light"
     },
     "output_type": "display_data"
    }
   ],
   "source": [
    "# lets check if customers who churn have other services?\n",
    "\n",
    "train[train.churn == 1]['DSL'].value_counts().plot(kind = 'bar', color = 'red')\n",
    "\n",
    "plt.title('Do customers churn because they have DSL?')\n",
    "\n",
    "plt.show()\n",
    "\n",
    "# not a big influencer"
   ]
  },
  {
   "cell_type": "code",
   "execution_count": 33,
   "metadata": {},
   "outputs": [
    {
     "data": {
      "text/plain": [
       "Text(0.5, 1.0, 'Do customers who stream tv and movie churn more?')"
      ]
     },
     "execution_count": 33,
     "metadata": {},
     "output_type": "execute_result"
    },
    {
     "data": {
      "image/png": "[encoded data removed]",
      "text/plain": [
       "<Figure size 432x288 with 1 Axes>"
      ]
     },
     "metadata": {
      "needs_background": "light"
     },
     "output_type": "display_data"
    }
   ],
   "source": [
    "## is streaming tv and movie influencing churn?\n",
    "\n",
    "train[train.churn == 1]['streaming_tv_movie'].value_counts().plot(kind = 'bar', color = 'red')\n",
    "plt.title(\"Do customers who stream tv and movie churn more?\")\n",
    "\n",
    "# somewhat influencing"
   ]
  },
  {
   "cell_type": "code",
   "execution_count": 36,
   "metadata": {},
   "outputs": [
    {
     "data": {
      "image/png": "[encoded data removed]",
      "text/plain": [
       "<Figure size 432x288 with 1 Axes>"
      ]
     },
     "metadata": {
      "needs_background": "light"
     },
     "output_type": "display_data"
    }
   ],
   "source": [
    "# is having online security and back up influencing churn?\n",
    "\n",
    "train[train.churn == 1]['online_security_and_backup'].value_counts().plot(kind = 'bar', color = 'red')\n",
    "\n",
    "\n",
    "plt.title(\"Do customers have online security and backup churn more?\")\n",
    "\n",
    "plt.show()\n",
    "\n",
    "\n",
    "# not a influencer"
   ]
  },
  {
   "cell_type": "code",
   "execution_count": 40,
   "metadata": {},
   "outputs": [
    {
     "data": {
      "text/plain": [
       "Text(0.5, 1.0, 'Do customers who have phone with multiple lines churn more?')"
      ]
     },
     "execution_count": 40,
     "metadata": {},
     "output_type": "execute_result"
    },
    {
     "data": {
      "image/png": "[encoded data removed]",
      "text/plain": [
       "<Figure size 432x288 with 1 Axes>"
      ]
     },
     "metadata": {
      "needs_background": "light"
     },
     "output_type": "display_data"
    }
   ],
   "source": [
    "# is having multiple lines influencing churn?\n",
    "\n",
    "\n",
    "train[train.churn == 1]['phone_and_multiple_lines'].value_counts().plot(kind = 'bar', color = 'red')\n",
    "\n",
    "\n",
    "plt.title('Do customers who have phone with multiple lines churn more?')\n",
    "\n",
    "# it seems that customers with phone and multiple lines churn less compared to those without multiple lines"
   ]
  },
  {
   "cell_type": "markdown",
   "metadata": {},
   "source": [
    "### Based on the above exploration, following hypothesis are made"
   ]
  },
  {
   "cell_type": "markdown",
   "metadata": {},
   "source": [
    "### Hypothesis1:\n",
    "#### Month to Month customers churn more\n",
    "\n",
    "\n",
    "### Hypothesis 2:\n",
    "#### Churned customers paid more on monthly charge"
   ]
  },
  {
   "cell_type": "markdown",
   "metadata": {},
   "source": [
    "### Lets test Hypothesis 1\n",
    "\n",
    "$H_0$: The contract type has no influence on churn rate\n",
    "\n",
    "$H_a$: Month to month customers churn more\n"
   ]
  },
  {
   "cell_type": "code",
   "execution_count": 37,
   "metadata": {},
   "outputs": [],
   "source": [
    "# import necessary modules\n",
    "from scipy import stats"
   ]
  },
  {
   "cell_type": "code",
   "execution_count": 38,
   "metadata": {},
   "outputs": [],
   "source": [
    "# Since we are comparing two categorical variables,  so we will need to perform Chi^2 test\n",
    "\n",
    "a = 0.05 # Setting our significance level\n",
    "observed_data = pd.crosstab(train.churn, train['Month-to-month'])"
   ]
  },
  {
   "cell_type": "code",
   "execution_count": 43,
   "metadata": {},
   "outputs": [
    {
     "data": {
      "text/plain": [
       "(747.9632623890424,\n",
       " 1.1124037874492999e-164,\n",
       " 1,\n",
       " array([[1491.20533333, 1812.79466667],\n",
       "        [ 539.79466667,  656.20533333]]))"
      ]
     },
     "execution_count": 43,
     "metadata": {},
     "output_type": "execute_result"
    }
   ],
   "source": [
    "# Running chi^2 test\n",
    "\n",
    "chi2, p, degf, expected = stats.chi2_contingency(observed_data)\n",
    "\n",
    "\n",
    "# lets check our values\n",
    "\n",
    "chi2, p, degf, expected"
   ]
  },
  {
   "cell_type": "code",
   "execution_count": 44,
   "metadata": {},
   "outputs": [
    {
     "name": "stdout",
     "output_type": "stream",
     "text": [
      "We reject the null hypothesis\n"
     ]
    }
   ],
   "source": [
    "# Do we reject or fail to reject the null hypothesis?\n",
    "\n",
    "if p<a:\n",
    "    print('We reject the null hypothesis')\n",
    "else:\n",
    "    print('We fail to reject the null hypothesis')"
   ]
  },
  {
   "cell_type": "markdown",
   "metadata": {},
   "source": [
    "### lets check hypothesis 2\n",
    "\n",
    "$H_0$: $\\mu$ Monthly charge for churn customers = $\\mu$ Monthly charge for current customers\n",
    "\n",
    "$H_a$: $\\mu$ Monthly charge for churn customers > $\\mu$ Monthly charge for current customers"
   ]
  },
  {
   "cell_type": "code",
   "execution_count": 64,
   "metadata": {},
   "outputs": [],
   "source": [
    "# since we are comparing categorical variables with respect to continuous variables, we will perform T test\n",
    "\n",
    "a = 0.05 # setting our significance level"
   ]
  },
  {
   "cell_type": "code",
   "execution_count": 41,
   "metadata": {},
   "outputs": [
    {
     "data": {
      "image/png": "[encoded data removed]",
      "text/plain": [
       "<Figure size 432x288 with 1 Axes>"
      ]
     },
     "metadata": {
      "needs_background": "light"
     },
     "output_type": "display_data"
    }
   ],
   "source": [
    "# lets look at the distributio of the monthly charges\n",
    "sns.distplot(train.monthly_charges)\n",
    "plt.show()"
   ]
  },
  {
   "cell_type": "code",
   "execution_count": 45,
   "metadata": {},
   "outputs": [],
   "source": [
    "# creating our subgroups\n",
    "\n",
    "x1 = train[train.churn == 1].monthly_charges\n",
    "x2 = train[train.churn == 0].monthly_charges"
   ]
  },
  {
   "cell_type": "code",
   "execution_count": 46,
   "metadata": {},
   "outputs": [
    {
     "data": {
      "text/plain": [
       "(611.0760250976051, 975.1498219820324)"
      ]
     },
     "execution_count": 46,
     "metadata": {},
     "output_type": "execute_result"
    }
   ],
   "source": [
    "# checking variance\n",
    "\n",
    "x1.var(), x2.var()"
   ]
  },
  {
   "cell_type": "markdown",
   "metadata": {},
   "source": [
    "#### Assumptions for T test:\n",
    "    - Monthly charge is normally distributed\n",
    "    - We have large enough sample\n",
    "    - Variance is not equal but we can pass an arguments equal_var = False\n",
    "    "
   ]
  },
  {
   "cell_type": "code",
   "execution_count": 48,
   "metadata": {},
   "outputs": [
    {
     "data": {
      "text/plain": [
       "(14.552441022766798, 3.2374322293830077e-46)"
      ]
     },
     "execution_count": 48,
     "metadata": {},
     "output_type": "execute_result"
    }
   ],
   "source": [
    "# we will be running a two sampled, one tailed independent T test\n",
    "\n",
    "t, p1 = stats.ttest_ind(x1, x2, equal_var = False)\n",
    "t,p1"
   ]
  },
  {
   "cell_type": "code",
   "execution_count": 50,
   "metadata": {},
   "outputs": [
    {
     "name": "stdout",
     "output_type": "stream",
     "text": [
      "We reject the null hypothesis\n"
     ]
    }
   ],
   "source": [
    "# Do we reject or fail to reject the null hypothesis?\n",
    "\n",
    "# p/2 because its a one tailed t-test, p value accounts for two tailed test\n",
    "\n",
    "# positive t value means, the churned customers monthly charge mean is higher\n",
    "\n",
    "if p1/2<a:\n",
    "    print('We reject the null hypothesis')\n",
    "else:\n",
    "    print('We fail to reject the null hypothesis')"
   ]
  },
  {
   "cell_type": "markdown",
   "metadata": {},
   "source": [
    "### Modeling\n",
    " - Create a baseline model using the available data\n",
    " - Using various algorithms, create classification models\n",
    "#### We will create a baseline model first"
   ]
  },
  {
   "cell_type": "code",
   "execution_count": 62,
   "metadata": {},
   "outputs": [
    {
     "data": {
      "text/plain": [
       "0    3304\n",
       "1    1196\n",
       "Name: churn, dtype: int64"
      ]
     },
     "execution_count": 62,
     "metadata": {},
     "output_type": "execute_result"
    }
   ],
   "source": [
    "# Lets get the value count of the churn column in train data set\n",
    "\n",
    "train.churn.value_counts()\n",
    "\n"
   ]
  },
  {
   "cell_type": "code",
   "execution_count": 63,
   "metadata": {},
   "outputs": [
    {
     "name": "stdout",
     "output_type": "stream",
     "text": [
      "The accuracy of our baseline model to predict customers that wont churn is: 0.7342222222222222\n"
     ]
    }
   ],
   "source": [
    "# Lets do some math to create a baseline model\n",
    "# Category with highest count is considered to be a positive prediction\n",
    "# So our baseline model will predict those that wont churn\n",
    "\n",
    "\n",
    "baseline_accuracy = train.churn.value_counts()[0]/len(train)\n",
    "baseline_accuracy \n",
    "\n",
    "\n",
    "print(f'The accuracy of our baseline model to predict customers that wont churn is: {baseline_accuracy}')"
   ]
  },
  {
   "cell_type": "markdown",
   "metadata": {},
   "source": [
    "#### Now we will create 2 models per algorithm"
   ]
  },
  {
   "cell_type": "markdown",
   "metadata": {},
   "source": [
    "\n",
    "### Logistic Regression\n",
    "\n",
    "#### Model 1"
   ]
  },
  {
   "cell_type": "code",
   "execution_count": 53,
   "metadata": {},
   "outputs": [],
   "source": [
    "# separate your predictors and your dependent variables\n",
    "\n",
    "x_train1 = train.drop(columns = ['customer_id', 'churn', 'partner_dependents', 'streaming_tv_movie',\n",
    "       'online_security_and_backup' ])\n",
    "y_train = train.churn\n"
   ]
  },
  {
   "cell_type": "code",
   "execution_count": 55,
   "metadata": {},
   "outputs": [],
   "source": [
    "# Create a logistic regression model\n",
    "\n",
    "logit1 = LogisticRegression(random_state = 111)"
   ]
  },
  {
   "cell_type": "code",
   "execution_count": 56,
   "metadata": {},
   "outputs": [
    {
     "data": {
      "text/plain": [
       "LogisticRegression(C=1.0, class_weight=None, dual=False, fit_intercept=True,\n",
       "                   intercept_scaling=1, l1_ratio=None, max_iter=100,\n",
       "                   multi_class='auto', n_jobs=None, penalty='l2',\n",
       "                   random_state=111, solver='lbfgs', tol=0.0001, verbose=0,\n",
       "                   warm_start=False)"
      ]
     },
     "execution_count": 56,
     "metadata": {},
     "output_type": "execute_result"
    }
   ],
   "source": [
    "# Fit your model\n",
    "\n",
    "logit1.fit(x_train1, y_train)"
   ]
  },
  {
   "cell_type": "code",
   "execution_count": 57,
   "metadata": {},
   "outputs": [
    {
     "data": {
      "text/plain": [
       "array([[ 4.15332825e-01,  4.93829854e-02, -2.19695889e-01,\n",
       "        -5.74853772e-02, -1.03832394e+00,  3.51375055e-02,\n",
       "        -4.70366901e-01, -1.38165461e-01, -9.64435897e-02,\n",
       "        -5.34897214e-01,  1.84109013e-01,  2.15144198e-01,\n",
       "         4.36174343e-01,  1.67990429e-02,  2.46497195e-04,\n",
       "        -3.86925078e-01,  3.51375055e-02,  3.65099444e-01,\n",
       "        -3.62329038e-01, -6.16436841e-01,  5.01033543e-02,\n",
       "         4.33490682e-01]])"
      ]
     },
     "execution_count": 57,
     "metadata": {},
     "output_type": "execute_result"
    }
   ],
   "source": [
    "# Check coefficients\n",
    "logit1.coef_"
   ]
  },
  {
   "cell_type": "code",
   "execution_count": 58,
   "metadata": {},
   "outputs": [
    {
     "data": {
      "text/plain": [
       "0.8093333333333333"
      ]
     },
     "execution_count": 58,
     "metadata": {},
     "output_type": "execute_result"
    }
   ],
   "source": [
    "# Calculate accuracy percentage\n",
    "\n",
    "logit1.score(x_train1, y_train)"
   ]
  },
  {
   "cell_type": "code",
   "execution_count": 61,
   "metadata": {},
   "outputs": [],
   "source": [
    "# Predict y using the logit model\n",
    "\n",
    "y_pred1 = logit1.predict(x_train1)"
   ]
  },
  {
   "cell_type": "code",
   "execution_count": 60,
   "metadata": {},
   "outputs": [
    {
     "name": "stdout",
     "output_type": "stream",
     "text": [
      "              precision    recall  f1-score   support\n",
      "\n",
      "           0       0.85      0.90      0.87      3304\n",
      "           1       0.67      0.55      0.61      1196\n",
      "\n",
      "    accuracy                           0.81      4500\n",
      "   macro avg       0.76      0.73      0.74      4500\n",
      "weighted avg       0.80      0.81      0.80      4500\n",
      "\n"
     ]
    }
   ],
   "source": [
    "# Lets check the classification report\n",
    "\n",
    "print(classification_report(y_train, y_pred1))"
   ]
  },
  {
   "cell_type": "markdown",
   "metadata": {},
   "source": [
    "### Model 1 accuracy = 81%"
   ]
  },
  {
   "cell_type": "markdown",
   "metadata": {},
   "source": [
    "### Model 2"
   ]
  },
  {
   "cell_type": "code",
   "execution_count": 64,
   "metadata": {},
   "outputs": [],
   "source": [
    "# separate your predictors and your dependent variables\n",
    "\n",
    "x_train2 = train.drop(columns = ['customer_id', 'churn', 'partner_dependents', 'streaming_tv_movie',\n",
    "       'online_security_and_backup' ])\n",
    "y_train = train.churn"
   ]
  },
  {
   "cell_type": "code",
   "execution_count": 69,
   "metadata": {},
   "outputs": [],
   "source": [
    "# Create a logistic regression model with C = 0.10\n",
    "\n",
    "logit2 = LogisticRegression(random_state = 112, C = 0.10)"
   ]
  },
  {
   "cell_type": "code",
   "execution_count": 70,
   "metadata": {},
   "outputs": [
    {
     "data": {
      "text/plain": [
       "LogisticRegression(C=0.1, class_weight=None, dual=False, fit_intercept=True,\n",
       "                   intercept_scaling=1, l1_ratio=None, max_iter=100,\n",
       "                   multi_class='auto', n_jobs=None, penalty='l2',\n",
       "                   random_state=112, solver='lbfgs', tol=0.0001, verbose=0,\n",
       "                   warm_start=False)"
      ]
     },
     "execution_count": 70,
     "metadata": {},
     "output_type": "execute_result"
    }
   ],
   "source": [
    "# Fit your model\n",
    "\n",
    "logit2.fit(x_train2, y_train)"
   ]
  },
  {
   "cell_type": "code",
   "execution_count": 71,
   "metadata": {},
   "outputs": [
    {
     "data": {
      "text/plain": [
       "array([[ 3.87595678e-01,  4.02317646e-02, -2.09927590e-01,\n",
       "        -5.85319980e-02, -9.59077627e-01,  4.06047556e-02,\n",
       "        -4.39240331e-01, -1.30067393e-01, -9.16832910e-02,\n",
       "        -4.99402503e-01,  1.69782666e-01,  1.99189020e-01,\n",
       "         4.01154300e-01,  1.66971839e-02,  2.48104173e-04,\n",
       "        -3.62706727e-01,  4.06047556e-02,  3.30265891e-01,\n",
       "        -3.38168482e-01, -5.66387645e-01,  2.76575834e-02,\n",
       "         4.10368951e-01]])"
      ]
     },
     "execution_count": 71,
     "metadata": {},
     "output_type": "execute_result"
    }
   ],
   "source": [
    "# Check coefficients\n",
    "logit2.coef_"
   ]
  },
  {
   "cell_type": "code",
   "execution_count": 72,
   "metadata": {},
   "outputs": [
    {
     "data": {
      "text/plain": [
       "0.8091111111111111"
      ]
     },
     "execution_count": 72,
     "metadata": {},
     "output_type": "execute_result"
    }
   ],
   "source": [
    "# Calculate accuracy percentage\n",
    "\n",
    "logit2.score(x_train2, y_train)"
   ]
  },
  {
   "cell_type": "code",
   "execution_count": 73,
   "metadata": {},
   "outputs": [],
   "source": [
    "# Predict y using the logit model\n",
    "\n",
    "y_pred2 = logit2.predict(x_train2)"
   ]
  },
  {
   "cell_type": "code",
   "execution_count": 74,
   "metadata": {},
   "outputs": [
    {
     "name": "stdout",
     "output_type": "stream",
     "text": [
      "              precision    recall  f1-score   support\n",
      "\n",
      "           0       0.85      0.90      0.87      3304\n",
      "           1       0.67      0.55      0.60      1196\n",
      "\n",
      "    accuracy                           0.81      4500\n",
      "   macro avg       0.76      0.73      0.74      4500\n",
      "weighted avg       0.80      0.81      0.80      4500\n",
      "\n"
     ]
    }
   ],
   "source": [
    "# Lets check the classification report\n",
    "\n",
    "print(classification_report(y_train, y_pred2))"
   ]
  },
  {
   "cell_type": "markdown",
   "metadata": {},
   "source": [
    "### Model 2 accuracy = 81%"
   ]
  },
  {
   "cell_type": "markdown",
   "metadata": {},
   "source": [
    "### Decision Tree\n",
    "\n",
    "\n",
    "#### Model 3\n"
   ]
  },
  {
   "cell_type": "code",
   "execution_count": 75,
   "metadata": {},
   "outputs": [],
   "source": [
    "# separate your predictors and your dependent variables\n",
    "\n",
    "x_train3 = train.drop(columns = ['customer_id', 'churn',  'partner_dependents',  'streaming_tv_movie',\n",
    "      'online_security_and_backup' ])\n",
    "y_train = train.churn"
   ]
  },
  {
   "cell_type": "code",
   "execution_count": 76,
   "metadata": {},
   "outputs": [],
   "source": [
    "# keeping max_depth as 10 and creating our model\n",
    "\n",
    "clf3 = DecisionTreeClassifier(max_depth = 10, random_state = 123)"
   ]
  },
  {
   "cell_type": "code",
   "execution_count": 77,
   "metadata": {},
   "outputs": [
    {
     "data": {
      "text/plain": [
       "DecisionTreeClassifier(ccp_alpha=0.0, class_weight=None, criterion='gini',\n",
       "                       max_depth=10, max_features=None, max_leaf_nodes=None,\n",
       "                       min_impurity_decrease=0.0, min_impurity_split=None,\n",
       "                       min_samples_leaf=1, min_samples_split=2,\n",
       "                       min_weight_fraction_leaf=0.0, presort='deprecated',\n",
       "                       random_state=123, splitter='best')"
      ]
     },
     "execution_count": 77,
     "metadata": {},
     "output_type": "execute_result"
    }
   ],
   "source": [
    "# fitting our model\n",
    "\n",
    "clf3.fit(x_train3, y_train)"
   ]
  },
  {
   "cell_type": "code",
   "execution_count": 80,
   "metadata": {},
   "outputs": [
    {
     "data": {
      "text/plain": [
       "0.8771111111111111"
      ]
     },
     "execution_count": 80,
     "metadata": {},
     "output_type": "execute_result"
    }
   ],
   "source": [
    "# Calculating accuracy\n",
    "\n",
    "clf3.score(x_train3, y_train)"
   ]
  },
  {
   "cell_type": "code",
   "execution_count": 81,
   "metadata": {},
   "outputs": [],
   "source": [
    "# predicting y \n",
    "\n",
    "y_pred3 = clf3.predict(x_train3)"
   ]
  },
  {
   "cell_type": "code",
   "execution_count": 82,
   "metadata": {},
   "outputs": [
    {
     "name": "stdout",
     "output_type": "stream",
     "text": [
      "              precision    recall  f1-score   support\n",
      "\n",
      "           0       0.91      0.93      0.92      3304\n",
      "           1       0.79      0.73      0.76      1196\n",
      "\n",
      "    accuracy                           0.88      4500\n",
      "   macro avg       0.85      0.83      0.84      4500\n",
      "weighted avg       0.87      0.88      0.88      4500\n",
      "\n"
     ]
    }
   ],
   "source": [
    "# Classification Report \n",
    "\n",
    "print(classification_report(y_train, y_pred3))"
   ]
  },
  {
   "cell_type": "markdown",
   "metadata": {},
   "source": [
    "### Model 3 accuracy = 88%"
   ]
  },
  {
   "cell_type": "markdown",
   "metadata": {},
   "source": [
    "#### Model 4\n"
   ]
  },
  {
   "cell_type": "code",
   "execution_count": 83,
   "metadata": {},
   "outputs": [],
   "source": [
    "# separate your predictors and your dependent variables\n",
    "\n",
    "x_train4 = train.drop(columns = ['customer_id', 'churn',  'partner_dependents',  'streaming_tv_movie',\n",
    "      'online_security_and_backup' ])\n",
    "y_train = train.churn"
   ]
  },
  {
   "cell_type": "code",
   "execution_count": 84,
   "metadata": {},
   "outputs": [],
   "source": [
    "# keeping max_depth as 7and creating our model\n",
    "\n",
    "clf4 = DecisionTreeClassifier(max_depth = 7, random_state = 129)"
   ]
  },
  {
   "cell_type": "code",
   "execution_count": 85,
   "metadata": {},
   "outputs": [
    {
     "data": {
      "text/plain": [
       "DecisionTreeClassifier(ccp_alpha=0.0, class_weight=None, criterion='gini',\n",
       "                       max_depth=7, max_features=None, max_leaf_nodes=None,\n",
       "                       min_impurity_decrease=0.0, min_impurity_split=None,\n",
       "                       min_samples_leaf=1, min_samples_split=2,\n",
       "                       min_weight_fraction_leaf=0.0, presort='deprecated',\n",
       "                       random_state=129, splitter='best')"
      ]
     },
     "execution_count": 85,
     "metadata": {},
     "output_type": "execute_result"
    }
   ],
   "source": [
    "# fitting our model\n",
    "\n",
    "clf4.fit(x_train4, y_train)"
   ]
  },
  {
   "cell_type": "code",
   "execution_count": 86,
   "metadata": {},
   "outputs": [
    {
     "data": {
      "text/plain": [
       "0.8255555555555556"
      ]
     },
     "execution_count": 86,
     "metadata": {},
     "output_type": "execute_result"
    }
   ],
   "source": [
    "# Calculating accuracy\n",
    "\n",
    "clf4.score(x_train4, y_train)"
   ]
  },
  {
   "cell_type": "code",
   "execution_count": 87,
   "metadata": {},
   "outputs": [],
   "source": [
    "# predicting y \n",
    "\n",
    "y_pred4 = clf4.predict(x_train4)"
   ]
  },
  {
   "cell_type": "code",
   "execution_count": 88,
   "metadata": {},
   "outputs": [
    {
     "name": "stdout",
     "output_type": "stream",
     "text": [
      "              precision    recall  f1-score   support\n",
      "\n",
      "           0       0.86      0.91      0.88      3304\n",
      "           1       0.71      0.59      0.64      1196\n",
      "\n",
      "    accuracy                           0.83      4500\n",
      "   macro avg       0.78      0.75      0.76      4500\n",
      "weighted avg       0.82      0.83      0.82      4500\n",
      "\n"
     ]
    }
   ],
   "source": [
    "# Classification Report \n",
    "\n",
    "print(classification_report(y_train, y_pred4))"
   ]
  },
  {
   "cell_type": "markdown",
   "metadata": {},
   "source": [
    "### Model 4 accuracy = 83%"
   ]
  },
  {
   "cell_type": "markdown",
   "metadata": {},
   "source": [
    "## Random Forest\n",
    "\n",
    "#### Model 5"
   ]
  },
  {
   "cell_type": "code",
   "execution_count": 89,
   "metadata": {},
   "outputs": [],
   "source": [
    "# separate your predictors and your dependent variables\n",
    "\n",
    "x_train5 = train.drop(columns = ['customer_id', 'churn', 'partner_dependents',  'streaming_tv_movie',\n",
    "       'online_security_and_backup'])\n",
    "y_train = train.churn"
   ]
  },
  {
   "cell_type": "code",
   "execution_count": 90,
   "metadata": {},
   "outputs": [],
   "source": [
    "# creating a model with max_depth of 5, and min samples leaf of 5\n",
    "\n",
    "\n",
    "rf1 = RandomForestClassifier(random_state = 139, max_depth = 5, min_samples_leaf = 5)"
   ]
  },
  {
   "cell_type": "code",
   "execution_count": 92,
   "metadata": {},
   "outputs": [
    {
     "data": {
      "text/plain": [
       "RandomForestClassifier(bootstrap=True, ccp_alpha=0.0, class_weight=None,\n",
       "                       criterion='gini', max_depth=5, max_features='auto',\n",
       "                       max_leaf_nodes=None, max_samples=None,\n",
       "                       min_impurity_decrease=0.0, min_impurity_split=None,\n",
       "                       min_samples_leaf=5, min_samples_split=2,\n",
       "                       min_weight_fraction_leaf=0.0, n_estimators=100,\n",
       "                       n_jobs=None, oob_score=False, random_state=139,\n",
       "                       verbose=0, warm_start=False)"
      ]
     },
     "execution_count": 92,
     "metadata": {},
     "output_type": "execute_result"
    }
   ],
   "source": [
    "# fitting our model\n",
    "\n",
    "rf1.fit(x_train5, y_train)"
   ]
  },
  {
   "cell_type": "code",
   "execution_count": 93,
   "metadata": {},
   "outputs": [
    {
     "data": {
      "text/plain": [
       "0.8064444444444444"
      ]
     },
     "execution_count": 93,
     "metadata": {},
     "output_type": "execute_result"
    }
   ],
   "source": [
    "# Calculate accuracy\n",
    "\n",
    "rf1.score(x_train5, y_train)"
   ]
  },
  {
   "cell_type": "code",
   "execution_count": 94,
   "metadata": {},
   "outputs": [],
   "source": [
    "# Predicting y\n",
    "\n",
    "y_pred5 = rf1.predict(x_train5)"
   ]
  },
  {
   "cell_type": "code",
   "execution_count": 95,
   "metadata": {},
   "outputs": [
    {
     "name": "stdout",
     "output_type": "stream",
     "text": [
      "              precision    recall  f1-score   support\n",
      "\n",
      "           0       0.82      0.94      0.88      3304\n",
      "           1       0.72      0.44      0.55      1196\n",
      "\n",
      "    accuracy                           0.81      4500\n",
      "   macro avg       0.77      0.69      0.71      4500\n",
      "weighted avg       0.80      0.81      0.79      4500\n",
      "\n"
     ]
    }
   ],
   "source": [
    "# Classification Report\n",
    "\n",
    "print(classification_report(y_train, y_pred5))"
   ]
  },
  {
   "cell_type": "markdown",
   "metadata": {},
   "source": [
    "### Model 5 accuracy = 81%"
   ]
  },
  {
   "cell_type": "markdown",
   "metadata": {},
   "source": [
    "#### Model 6"
   ]
  },
  {
   "cell_type": "code",
   "execution_count": 99,
   "metadata": {},
   "outputs": [],
   "source": [
    "# separate your predictors and your dependent variables\n",
    "\n",
    "x_train6 = train.drop(columns = ['customer_id', 'churn', 'partner_dependents', 'streaming_tv_movie',\n",
    "       'online_security_and_backup', ])\n",
    "y_train = train.churn"
   ]
  },
  {
   "cell_type": "code",
   "execution_count": 100,
   "metadata": {},
   "outputs": [],
   "source": [
    "# creating a model with max_depth of 7, and min samples leaf of 10\n",
    "\n",
    "rf2 = RandomForestClassifier(random_state = 139, max_depth = 7, min_samples_leaf = 10)"
   ]
  },
  {
   "cell_type": "code",
   "execution_count": 101,
   "metadata": {},
   "outputs": [
    {
     "data": {
      "text/plain": [
       "RandomForestClassifier(bootstrap=True, ccp_alpha=0.0, class_weight=None,\n",
       "                       criterion='gini', max_depth=7, max_features='auto',\n",
       "                       max_leaf_nodes=None, max_samples=None,\n",
       "                       min_impurity_decrease=0.0, min_impurity_split=None,\n",
       "                       min_samples_leaf=10, min_samples_split=2,\n",
       "                       min_weight_fraction_leaf=0.0, n_estimators=100,\n",
       "                       n_jobs=None, oob_score=False, random_state=139,\n",
       "                       verbose=0, warm_start=False)"
      ]
     },
     "execution_count": 101,
     "metadata": {},
     "output_type": "execute_result"
    }
   ],
   "source": [
    "# fitting our model\n",
    "\n",
    "rf2.fit(x_train6, y_train)"
   ]
  },
  {
   "cell_type": "code",
   "execution_count": 102,
   "metadata": {},
   "outputs": [
    {
     "data": {
      "text/plain": [
       "0.8184444444444444"
      ]
     },
     "execution_count": 102,
     "metadata": {},
     "output_type": "execute_result"
    }
   ],
   "source": [
    "# Calculate accuracy\n",
    "\n",
    "rf2.score(x_train6, y_train)"
   ]
  },
  {
   "cell_type": "code",
   "execution_count": 103,
   "metadata": {},
   "outputs": [],
   "source": [
    "# Predicting y\n",
    "\n",
    "y_pred6 = rf2.predict(x_train6)"
   ]
  },
  {
   "cell_type": "code",
   "execution_count": 105,
   "metadata": {},
   "outputs": [
    {
     "name": "stdout",
     "output_type": "stream",
     "text": [
      "              precision    recall  f1-score   support\n",
      "\n",
      "           0       0.84      0.92      0.88      3304\n",
      "           1       0.71      0.53      0.61      1196\n",
      "\n",
      "    accuracy                           0.82      4500\n",
      "   macro avg       0.78      0.73      0.75      4500\n",
      "weighted avg       0.81      0.82      0.81      4500\n",
      "\n"
     ]
    }
   ],
   "source": [
    "# Classification Report\n",
    "\n",
    "print(classification_report(y_train, y_pred6))"
   ]
  },
  {
   "cell_type": "markdown",
   "metadata": {},
   "source": [
    "### Model 6 accuracy = 82%"
   ]
  },
  {
   "cell_type": "markdown",
   "metadata": {},
   "source": [
    "## KNN\n",
    "\n",
    "#### Model 7"
   ]
  },
  {
   "cell_type": "code",
   "execution_count": 106,
   "metadata": {},
   "outputs": [],
   "source": [
    "# separate your predictors and your dependent variables\n",
    "\n",
    "x_train7 = train.drop(columns = ['customer_id', 'churn', 'partner_dependents', 'streaming_tv_movie',\n",
    "       'online_security_and_backup', ])\n",
    "y_train = train.churn"
   ]
  },
  {
   "cell_type": "code",
   "execution_count": 107,
   "metadata": {},
   "outputs": [],
   "source": [
    "# creating a KNN model\n",
    "\n",
    "\n",
    "knn1 = KNeighborsClassifier(n_neighbors = 10)"
   ]
  },
  {
   "cell_type": "code",
   "execution_count": 108,
   "metadata": {},
   "outputs": [
    {
     "data": {
      "text/plain": [
       "KNeighborsClassifier(algorithm='auto', leaf_size=30, metric='minkowski',\n",
       "                     metric_params=None, n_jobs=None, n_neighbors=10, p=2,\n",
       "                     weights='uniform')"
      ]
     },
     "execution_count": 108,
     "metadata": {},
     "output_type": "execute_result"
    }
   ],
   "source": [
    "# fitting our model\n",
    "\n",
    "knn1.fit(x_train7, y_train)"
   ]
  },
  {
   "cell_type": "code",
   "execution_count": 109,
   "metadata": {},
   "outputs": [
    {
     "data": {
      "text/plain": [
       "0.8115555555555556"
      ]
     },
     "execution_count": 109,
     "metadata": {},
     "output_type": "execute_result"
    }
   ],
   "source": [
    "# Calculating accuracy\n",
    "\n",
    "\n",
    "knn1.score(x_train7, y_train)"
   ]
  },
  {
   "cell_type": "code",
   "execution_count": 110,
   "metadata": {},
   "outputs": [],
   "source": [
    "# predicting y\n",
    "\n",
    "y_pred7 = knn1.predict(x_train7)"
   ]
  },
  {
   "cell_type": "code",
   "execution_count": 111,
   "metadata": {},
   "outputs": [
    {
     "name": "stdout",
     "output_type": "stream",
     "text": [
      "              precision    recall  f1-score   support\n",
      "\n",
      "           0       0.82      0.95      0.88      3304\n",
      "           1       0.76      0.43      0.55      1196\n",
      "\n",
      "    accuracy                           0.81      4500\n",
      "   macro avg       0.79      0.69      0.71      4500\n",
      "weighted avg       0.80      0.81      0.79      4500\n",
      "\n"
     ]
    }
   ],
   "source": [
    "# Classification Report\n",
    "\n",
    "print(classification_report(y_train, y_pred7))"
   ]
  },
  {
   "cell_type": "markdown",
   "metadata": {},
   "source": [
    "### Model 7 accuracy = 81%"
   ]
  },
  {
   "cell_type": "markdown",
   "metadata": {},
   "source": [
    "#### Model 8"
   ]
  },
  {
   "cell_type": "code",
   "execution_count": 112,
   "metadata": {},
   "outputs": [],
   "source": [
    "# separate your predictors and your dependent variables\n",
    "\n",
    "x_train8 = train.drop(columns = ['customer_id', 'churn', 'partner_dependents', 'streaming_tv_movie',\n",
    "       'online_security_and_backup' ])\n",
    "y_train = train.churn"
   ]
  },
  {
   "cell_type": "code",
   "execution_count": 113,
   "metadata": {},
   "outputs": [],
   "source": [
    "# creating a KNN model\n",
    "\n",
    "knn2 = KNeighborsClassifier(n_neighbors = 5)\n",
    "\n"
   ]
  },
  {
   "cell_type": "code",
   "execution_count": 114,
   "metadata": {},
   "outputs": [
    {
     "data": {
      "text/plain": [
       "KNeighborsClassifier(algorithm='auto', leaf_size=30, metric='minkowski',\n",
       "                     metric_params=None, n_jobs=None, n_neighbors=5, p=2,\n",
       "                     weights='uniform')"
      ]
     },
     "execution_count": 114,
     "metadata": {},
     "output_type": "execute_result"
    }
   ],
   "source": [
    "# fitting our model\n",
    "\n",
    "knn2.fit(x_train8, y_train)"
   ]
  },
  {
   "cell_type": "code",
   "execution_count": 115,
   "metadata": {},
   "outputs": [
    {
     "data": {
      "text/plain": [
       "0.8368888888888889"
      ]
     },
     "execution_count": 115,
     "metadata": {},
     "output_type": "execute_result"
    }
   ],
   "source": [
    "# Calculating accuracy\n",
    "\n",
    "\n",
    "knn2.score(x_train8, y_train)"
   ]
  },
  {
   "cell_type": "code",
   "execution_count": 116,
   "metadata": {},
   "outputs": [],
   "source": [
    "# predicting y\n",
    "\n",
    "y_pred8 = knn2.predict(x_train8)"
   ]
  },
  {
   "cell_type": "code",
   "execution_count": 117,
   "metadata": {},
   "outputs": [
    {
     "name": "stdout",
     "output_type": "stream",
     "text": [
      "              precision    recall  f1-score   support\n",
      "\n",
      "           0       0.85      0.94      0.89      3304\n",
      "           1       0.76      0.56      0.65      1196\n",
      "\n",
      "    accuracy                           0.84      4500\n",
      "   macro avg       0.81      0.75      0.77      4500\n",
      "weighted avg       0.83      0.84      0.83      4500\n",
      "\n"
     ]
    }
   ],
   "source": [
    "# Classification Report\n",
    "\n",
    "print(classification_report(y_train, y_pred8))"
   ]
  },
  {
   "cell_type": "markdown",
   "metadata": {},
   "source": [
    "### Model 8 accuracy = 84%"
   ]
  },
  {
   "cell_type": "markdown",
   "metadata": {},
   "source": [
    "## We will chose one best perfomring model from each classification algorith to test on validate dataset"
   ]
  },
  {
   "cell_type": "markdown",
   "metadata": {},
   "source": [
    "### Validate with logistic model; Model 1"
   ]
  },
  {
   "cell_type": "code",
   "execution_count": 118,
   "metadata": {},
   "outputs": [],
   "source": [
    "# separating our predictors and dependent variables\n",
    "\n",
    "# We have to be sure that the predictors data frame have same variables as the data the model trained on\n",
    "\n",
    "x_val1 = validate.drop(columns = ['customer_id', 'churn', 'partner_dependents', 'streaming_tv_movie',\n",
    "       'online_security_and_backup' ])\n",
    "y_val = validate.churn"
   ]
  },
  {
   "cell_type": "code",
   "execution_count": 119,
   "metadata": {},
   "outputs": [
    {
     "data": {
      "text/plain": [
       "0.7786666666666666"
      ]
     },
     "execution_count": 119,
     "metadata": {},
     "output_type": "execute_result"
    }
   ],
   "source": [
    "# Calculating accuracy\n",
    "\n",
    "logit1.score(x_val1, y_val)"
   ]
  },
  {
   "cell_type": "code",
   "execution_count": 120,
   "metadata": {},
   "outputs": [],
   "source": [
    "# predicting y validate\n",
    "\n",
    "y_val_pred1 = logit1.predict(x_val1)"
   ]
  },
  {
   "cell_type": "code",
   "execution_count": 121,
   "metadata": {},
   "outputs": [
    {
     "name": "stdout",
     "output_type": "stream",
     "text": [
      "              precision    recall  f1-score   support\n",
      "\n",
      "           0       0.83      0.88      0.85       826\n",
      "           1       0.60      0.49      0.54       299\n",
      "\n",
      "    accuracy                           0.78      1125\n",
      "   macro avg       0.71      0.69      0.70      1125\n",
      "weighted avg       0.77      0.78      0.77      1125\n",
      "\n"
     ]
    }
   ],
   "source": [
    "# Classification Report \n",
    "print(classification_report(y_val, y_val_pred1))"
   ]
  },
  {
   "cell_type": "markdown",
   "metadata": {},
   "source": [
    "### Model 1 accuracy with validate = 78%"
   ]
  },
  {
   "cell_type": "markdown",
   "metadata": {},
   "source": [
    "### Validate with Decision Tree Model 4"
   ]
  },
  {
   "cell_type": "code",
   "execution_count": 122,
   "metadata": {},
   "outputs": [],
   "source": [
    "# separating our predictors and dependent variables\n",
    "\n",
    "# We have to be sure that the predictors data frame have same variables as the data the model trained on\n",
    "\n",
    "x_val2 = validate.drop(columns = ['customer_id', 'churn', 'partner_dependents', 'streaming_tv_movie',\n",
    "       'online_security_and_backup' ])\n",
    "y_val = validate.churn\n"
   ]
  },
  {
   "cell_type": "code",
   "execution_count": 123,
   "metadata": {},
   "outputs": [
    {
     "data": {
      "text/plain": [
       "0.7706666666666667"
      ]
     },
     "execution_count": 123,
     "metadata": {},
     "output_type": "execute_result"
    }
   ],
   "source": [
    "# Calculating accuracy\n",
    "clf4.score(x_val2, y_val)\n"
   ]
  },
  {
   "cell_type": "code",
   "execution_count": 124,
   "metadata": {},
   "outputs": [],
   "source": [
    "# predicting y validate\n",
    "\n",
    "y_val_pred2 = clf4.predict(x_val2)"
   ]
  },
  {
   "cell_type": "code",
   "execution_count": 125,
   "metadata": {},
   "outputs": [
    {
     "name": "stdout",
     "output_type": "stream",
     "text": [
      "              precision    recall  f1-score   support\n",
      "\n",
      "           0       0.82      0.87      0.85       826\n",
      "           1       0.58      0.48      0.53       299\n",
      "\n",
      "    accuracy                           0.77      1125\n",
      "   macro avg       0.70      0.68      0.69      1125\n",
      "weighted avg       0.76      0.77      0.76      1125\n",
      "\n"
     ]
    }
   ],
   "source": [
    "# Classification Report \n",
    "\n",
    "print(classification_report(y_val, y_val_pred2))"
   ]
  },
  {
   "cell_type": "markdown",
   "metadata": {},
   "source": [
    "### Model 4 accuracy with validate = 77%"
   ]
  },
  {
   "cell_type": "markdown",
   "metadata": {},
   "source": [
    "### Validate with Random Forest Model 6"
   ]
  },
  {
   "cell_type": "code",
   "execution_count": 126,
   "metadata": {},
   "outputs": [],
   "source": [
    "# separating our predictors and dependent variables\n",
    "\n",
    "# We have to be sure that the predictors data frame have same variables as the data the model trained on\n",
    "\n",
    "x_val3 = validate.drop(columns = ['customer_id', 'churn', 'partner_dependents', 'streaming_tv_movie',\n",
    "       'online_security_and_backup' ])\n",
    "y_val = validate.churn\n"
   ]
  },
  {
   "cell_type": "code",
   "execution_count": 127,
   "metadata": {},
   "outputs": [
    {
     "data": {
      "text/plain": [
       "0.7831111111111111"
      ]
     },
     "execution_count": 127,
     "metadata": {},
     "output_type": "execute_result"
    }
   ],
   "source": [
    "# Calculating accuracy\n",
    "\n",
    "rf2.score(x_val3, y_val)"
   ]
  },
  {
   "cell_type": "code",
   "execution_count": 128,
   "metadata": {},
   "outputs": [],
   "source": [
    "# predicting y validate\n",
    "\n",
    "y_val_pred3 = rf2.predict(x_val3)"
   ]
  },
  {
   "cell_type": "code",
   "execution_count": 129,
   "metadata": {},
   "outputs": [
    {
     "name": "stdout",
     "output_type": "stream",
     "text": [
      "              precision    recall  f1-score   support\n",
      "\n",
      "           0       0.82      0.91      0.86       826\n",
      "           1       0.63      0.43      0.52       299\n",
      "\n",
      "    accuracy                           0.78      1125\n",
      "   macro avg       0.73      0.67      0.69      1125\n",
      "weighted avg       0.77      0.78      0.77      1125\n",
      "\n"
     ]
    }
   ],
   "source": [
    "# Classification report\n",
    "\n",
    "print(classification_report(y_val, y_val_pred3))"
   ]
  },
  {
   "cell_type": "markdown",
   "metadata": {},
   "source": [
    "### Model 6 accuracy with validate = 78%"
   ]
  },
  {
   "cell_type": "markdown",
   "metadata": {},
   "source": [
    "### Validate with KNN Model 8"
   ]
  },
  {
   "cell_type": "code",
   "execution_count": 130,
   "metadata": {},
   "outputs": [],
   "source": [
    "# separating our predictors and dependent variables\n",
    "\n",
    "# We have to be sure that the predictors data frame have same variables as the data the model trained on\n",
    "\n",
    "x_val4 = validate.drop(columns = ['customer_id', 'churn', 'partner_dependents', 'streaming_tv_movie',\n",
    "       'online_security_and_backup', ])\n",
    "y_val = validate.churn"
   ]
  },
  {
   "cell_type": "code",
   "execution_count": 131,
   "metadata": {},
   "outputs": [
    {
     "data": {
      "text/plain": [
       "0.7386666666666667"
      ]
     },
     "execution_count": 131,
     "metadata": {},
     "output_type": "execute_result"
    }
   ],
   "source": [
    "# Calculating accuracy\n",
    "knn2.score(x_val4, y_val)"
   ]
  },
  {
   "cell_type": "code",
   "execution_count": 132,
   "metadata": {},
   "outputs": [],
   "source": [
    "# predicting y validate\n",
    "\n",
    "y_val_pred4 = knn2.predict(x_val4)"
   ]
  },
  {
   "cell_type": "code",
   "execution_count": 133,
   "metadata": {},
   "outputs": [
    {
     "name": "stdout",
     "output_type": "stream",
     "text": [
      "              precision    recall  f1-score   support\n",
      "\n",
      "           0       0.80      0.87      0.83       826\n",
      "           1       0.51      0.39      0.44       299\n",
      "\n",
      "    accuracy                           0.74      1125\n",
      "   macro avg       0.65      0.63      0.64      1125\n",
      "weighted avg       0.72      0.74      0.73      1125\n",
      "\n"
     ]
    }
   ],
   "source": [
    "# classification report\n",
    "\n",
    "print(classification_report(y_val, y_val_pred4))"
   ]
  },
  {
   "cell_type": "markdown",
   "metadata": {},
   "source": [
    "### Model 8 accuracy with validate = 74%"
   ]
  },
  {
   "cell_type": "markdown",
   "metadata": {},
   "source": [
    "### Out of all the models, we will choose the logit model because it had the highest accuracy with validate data\n",
    "#### Test with logit model: Model 1"
   ]
  },
  {
   "cell_type": "code",
   "execution_count": 136,
   "metadata": {},
   "outputs": [],
   "source": [
    "# separating our predictors and dependent variables\n",
    "\n",
    "# We have to be sure that the predictors data frame have same variables as the data the model trained on\n",
    "\n",
    "x_test = test.drop(columns = ['customer_id', 'churn', 'partner_dependents', 'streaming_tv_movie',\n",
    "       'online_security_and_backup' ])\n",
    "y_test = test.churn"
   ]
  },
  {
   "cell_type": "code",
   "execution_count": 137,
   "metadata": {},
   "outputs": [
    {
     "data": {
      "text/plain": [
       "0.8031272210376688"
      ]
     },
     "execution_count": 137,
     "metadata": {},
     "output_type": "execute_result"
    }
   ],
   "source": [
    "# Calculating accuracy\n",
    "\n",
    "logit1.score(x_test, y_test)"
   ]
  },
  {
   "cell_type": "code",
   "execution_count": 138,
   "metadata": {},
   "outputs": [],
   "source": [
    "# predicting y test\n",
    "\n",
    "\n",
    "y_test_pred = logit1.predict(x_test)"
   ]
  },
  {
   "cell_type": "code",
   "execution_count": 140,
   "metadata": {},
   "outputs": [
    {
     "name": "stdout",
     "output_type": "stream",
     "text": [
      "              precision    recall  f1-score   support\n",
      "\n",
      "           0       0.85      0.89      0.87      1033\n",
      "           1       0.65      0.56      0.60       374\n",
      "\n",
      "    accuracy                           0.80      1407\n",
      "   macro avg       0.75      0.73      0.74      1407\n",
      "weighted avg       0.80      0.80      0.80      1407\n",
      "\n"
     ]
    }
   ],
   "source": [
    "# Classification Report\n",
    "\n",
    "print(classification_report(y_test, y_test_pred))"
   ]
  },
  {
   "cell_type": "markdown",
   "metadata": {},
   "source": [
    "#### Logistic Regression Model: Model 1 performed with an accuracy of 80 % with the test data\n",
    "\n",
    " #### This will be our final model"
   ]
  },
  {
   "cell_type": "markdown",
   "metadata": {},
   "source": [
    "## Creating a csv to turn in"
   ]
  },
  {
   "cell_type": "code",
   "execution_count": 141,
   "metadata": {},
   "outputs": [],
   "source": [
    "#concat the train, test, split dataset\n",
    "\n",
    "#sort the dataframe by index\n",
    "\n",
    "\n",
    "\n",
    "final_csv = pd.concat([train, test, validate ])\n",
    "\n",
    "\n",
    "final_csv = final_csv.sort_index()\n"
   ]
  },
  {
   "cell_type": "code",
   "execution_count": 142,
   "metadata": {},
   "outputs": [],
   "source": [
    "# creating x and y to predict the customers churn using the same variables we used to build the model\n",
    "\n",
    "\n",
    "\n",
    "\n",
    "x_final = final_csv.drop(columns = ['customer_id', 'churn', 'partner_dependents',  'streaming_tv_movie',\n",
    "       'online_security_and_backup'])\n",
    "y_final = final_csv.churn"
   ]
  },
  {
   "cell_type": "code",
   "execution_count": 143,
   "metadata": {},
   "outputs": [],
   "source": [
    "# creating a new columns with the predicted value for churn, 1 = Churn, 0 = not churn\n",
    "\n",
    "final_csv['predicted_churn'] = logit1.predict(x_final)"
   ]
  },
  {
   "cell_type": "code",
   "execution_count": 144,
   "metadata": {},
   "outputs": [
    {
     "data": {
      "text/plain": [
       "0    5477\n",
       "1    1555\n",
       "Name: predicted_churn, dtype: int64"
      ]
     },
     "execution_count": 144,
     "metadata": {},
     "output_type": "execute_result"
    }
   ],
   "source": [
    "# getting the count of predictions\n",
    "\n",
    "final_csv.predicted_churn.value_counts()"
   ]
  },
  {
   "cell_type": "code",
   "execution_count": 145,
   "metadata": {},
   "outputs": [],
   "source": [
    "# getting the probability of customers liklihood of churning or not\n",
    "\n",
    "\n",
    "y_final_proba = logit1.predict_proba(x_final)\n",
    "final_csv['probability'] = y_final_proba[:, 1]"
   ]
  },
  {
   "cell_type": "code",
   "execution_count": 146,
   "metadata": {},
   "outputs": [],
   "source": [
    "# creating a dataframe with only the required columns\n",
    "\n",
    "csv_to_turn = final_csv[['customer_id', 'probability', 'predicted_churn', 'churn']]\n",
    "csv_to_turn = csv_to_turn[['customer_id', 'probability', 'churn', 'predicted_churn']]\n",
    "csv_to_turn = csv_to_turn.rename(columns = {'churn': 'actual_churn'})"
   ]
  },
  {
   "cell_type": "code",
   "execution_count": 147,
   "metadata": {},
   "outputs": [],
   "source": [
    "# exporting the dataframe as csv to local repo\n",
    "\n",
    "csv_to_turn.to_csv('final_file.csv')"
   ]
  },
  {
   "cell_type": "markdown",
   "metadata": {},
   "source": [
    "## Summary\n",
    "  - Telco had a churn rate of approximately 27%\n",
    "  - Key drivers of the churn are the high monthly charge, month-to-month contract, and fiber optic internet\n",
    "  - The model can predict if a customer will churn or not with 80% accuracy. \n",
    "  - We can deploy this model and identify a target group of customers with high probability to churn and provide targeted discouts and deals to keep them with the company. Because, its much cheaper to retain an existing customer than to get a new one\n",
    "\n",
    "  "
   ]
  },
  {
   "cell_type": "code",
   "execution_count": null,
   "metadata": {},
   "outputs": [],
   "source": []
  }
 ],
 "metadata": {
  "kernelspec": {
   "display_name": "Python 3",
   "language": "python",
   "name": "python3"
  },
  "language_info": {
   "codemirror_mode": {
    "name": "ipython",
    "version": 3
   },
   "file_extension": ".py",
   "mimetype": "text/x-python",
   "name": "python",
   "nbconvert_exporter": "python",
   "pygments_lexer": "ipython3",
   "version": "3.7.6"
  }
 },
 "nbformat": 4,
 "nbformat_minor": 4
}
